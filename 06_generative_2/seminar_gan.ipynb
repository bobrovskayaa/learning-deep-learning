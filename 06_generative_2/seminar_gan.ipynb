{
  "nbformat": 4,
  "nbformat_minor": 0,
  "metadata": {
    "colab": {
      "name": "seminar_gan.ipynb",
      "version": "0.3.2",
      "provenance": [],
      "collapsed_sections": []
    },
    "kernelspec": {
      "name": "python3",
      "display_name": "Python 3"
    },
    "accelerator": "GPU"
  },
  "cells": [
    {
      "metadata": {
        "id": "HJIqIZbdYY3s",
        "colab_type": "text"
      },
      "cell_type": "markdown",
      "source": [
        "# Fashion-MNIST GAN\n",
        "Disclaimer: This notebook is an adopted version of [this](https://github.com/mickypaganini/GAN_tutorial) and [this](https://pytorch.org/tutorials/beginner/dcgan_faces_tutorial.html) tutorials.\n",
        "<img src=\"static/fashion-mnist.png\" align=\"center\"/>"
      ]
    },
    {
      "metadata": {
        "id": "CONcz9NwYY3u",
        "colab_type": "text"
      },
      "cell_type": "markdown",
      "source": [
        "## Imports and parameters"
      ]
    },
    {
      "metadata": {
        "id": "xN0haOh5YY3v",
        "colab_type": "code",
        "colab": {}
      },
      "cell_type": "code",
      "source": [
        "import os\n",
        "import subprocess\n",
        "\n",
        "import numpy as np\n",
        "import matplotlib.pyplot as plt\n",
        "%matplotlib inline\n",
        "\n",
        "import torch\n",
        "from torch import nn\n",
        "import torch.nn.functional as F\n",
        "from torch.utils.data import DataLoader\n",
        "\n",
        "import torchvision\n",
        "from torchvision import transforms\n",
        "\n",
        "from sklearn.cluster import MiniBatchKMeans"
      ],
      "execution_count": 0,
      "outputs": []
    },
    {
      "metadata": {
        "id": "fvLI3opqYY3z",
        "colab_type": "code",
        "colab": {}
      },
      "cell_type": "code",
      "source": [
        "device = torch.device(\"cuda\") if torch.cuda.is_available() else torch.device(\"cpu\")\n",
        "batch_size = 100"
      ],
      "execution_count": 0,
      "outputs": []
    },
    {
      "metadata": {
        "id": "vyhALxDJYY32",
        "colab_type": "text"
      },
      "cell_type": "markdown",
      "source": [
        "## Dataset\n",
        "In this tutorial we'll use [Fashion-MNIST dataset](https://github.com/zalandoresearch/fashion-mnist). In short: Fashion-MNIST is like MNIST but with fashion items (shirts, shoes, etc.).\n",
        "\n",
        "Let's setup transforms and dataset:"
      ]
    },
    {
      "metadata": {
        "id": "OIOcr6QCYY33",
        "colab_type": "code",
        "colab": {}
      },
      "cell_type": "code",
      "source": [
        "transform = transforms.Compose([\n",
        "    transforms.ToTensor(),\n",
        "    transforms.Normalize([0.5], [0.5])\n",
        "])"
      ],
      "execution_count": 0,
      "outputs": []
    },
    {
      "metadata": {
        "id": "kMsnZ26EYY37",
        "colab_type": "code",
        "outputId": "62ed7352-aa8f-426e-d562-e6eda38faccc",
        "colab": {
          "base_uri": "https://localhost:8080/",
          "height": 280
        }
      },
      "cell_type": "code",
      "source": [
        "dataset = torchvision.datasets.FashionMNIST(\n",
        "    root='./data',\n",
        "    train=True,\n",
        "    transform=transform,\n",
        "    download=True\n",
        ")"
      ],
      "execution_count": 4,
      "outputs": [
        {
          "output_type": "stream",
          "text": [
            "\r0it [00:00, ?it/s]"
          ],
          "name": "stderr"
        },
        {
          "output_type": "stream",
          "text": [
            "Downloading http://fashion-mnist.s3-website.eu-central-1.amazonaws.com/train-images-idx3-ubyte.gz to ./data/FashionMNIST/raw/train-images-idx3-ubyte.gz\n"
          ],
          "name": "stdout"
        },
        {
          "output_type": "stream",
          "text": [
            "26427392it [00:01, 13694356.25it/s]                              \n"
          ],
          "name": "stderr"
        },
        {
          "output_type": "stream",
          "text": [
            "Extracting ./data/FashionMNIST/raw/train-images-idx3-ubyte.gz\n"
          ],
          "name": "stdout"
        },
        {
          "output_type": "stream",
          "text": [
            "\r0it [00:00, ?it/s]"
          ],
          "name": "stderr"
        },
        {
          "output_type": "stream",
          "text": [
            "Downloading http://fashion-mnist.s3-website.eu-central-1.amazonaws.com/train-labels-idx1-ubyte.gz to ./data/FashionMNIST/raw/train-labels-idx1-ubyte.gz\n"
          ],
          "name": "stdout"
        },
        {
          "output_type": "stream",
          "text": [
            "32768it [00:00, 101872.96it/s]           \n",
            "0it [00:00, ?it/s]"
          ],
          "name": "stderr"
        },
        {
          "output_type": "stream",
          "text": [
            "Extracting ./data/FashionMNIST/raw/train-labels-idx1-ubyte.gz\n",
            "Downloading http://fashion-mnist.s3-website.eu-central-1.amazonaws.com/t10k-images-idx3-ubyte.gz to ./data/FashionMNIST/raw/t10k-images-idx3-ubyte.gz\n"
          ],
          "name": "stdout"
        },
        {
          "output_type": "stream",
          "text": [
            "4423680it [00:01, 4354769.78it/s]                             \n",
            "0it [00:00, ?it/s]"
          ],
          "name": "stderr"
        },
        {
          "output_type": "stream",
          "text": [
            "Extracting ./data/FashionMNIST/raw/t10k-images-idx3-ubyte.gz\n",
            "Downloading http://fashion-mnist.s3-website.eu-central-1.amazonaws.com/t10k-labels-idx1-ubyte.gz to ./data/FashionMNIST/raw/t10k-labels-idx1-ubyte.gz\n"
          ],
          "name": "stdout"
        },
        {
          "output_type": "stream",
          "text": [
            "8192it [00:00, 36372.94it/s]            "
          ],
          "name": "stderr"
        },
        {
          "output_type": "stream",
          "text": [
            "Extracting ./data/FashionMNIST/raw/t10k-labels-idx1-ubyte.gz\n",
            "Processing...\n",
            "Done!\n"
          ],
          "name": "stdout"
        },
        {
          "output_type": "stream",
          "text": [
            "\n"
          ],
          "name": "stderr"
        }
      ]
    },
    {
      "metadata": {
        "id": "cMos278-YY4C",
        "colab_type": "text"
      },
      "cell_type": "markdown",
      "source": [
        "Function to back from [-1, 1] to [0, 1]:"
      ]
    },
    {
      "metadata": {
        "id": "w0dSJLJsYY4D",
        "colab_type": "code",
        "colab": {}
      },
      "cell_type": "code",
      "source": [
        "def denorm(x):\n",
        "    out = (x + 1) / 2\n",
        "    return out"
      ],
      "execution_count": 0,
      "outputs": []
    },
    {
      "metadata": {
        "id": "9QreSwOdYY4G",
        "colab_type": "text"
      },
      "cell_type": "markdown",
      "source": [
        "Explore dataset:"
      ]
    },
    {
      "metadata": {
        "id": "pLyRpSC9YY4H",
        "colab_type": "code",
        "outputId": "3c3692c6-10ca-4e0f-854d-28b9e9d4acd1",
        "colab": {
          "base_uri": "https://localhost:8080/",
          "height": 89
        }
      },
      "cell_type": "code",
      "source": [
        "print(\"Labels: \", np.unique(dataset.train_labels))"
      ],
      "execution_count": 6,
      "outputs": [
        {
          "output_type": "stream",
          "text": [
            "Labels:  [0 1 2 3 4 5 6 7 8 9]\n"
          ],
          "name": "stdout"
        },
        {
          "output_type": "stream",
          "text": [
            "/usr/local/lib/python3.6/dist-packages/torchvision/datasets/mnist.py:43: UserWarning: train_labels has been renamed targets\n",
            "  warnings.warn(\"train_labels has been renamed targets\")\n"
          ],
          "name": "stderr"
        }
      ]
    },
    {
      "metadata": {
        "id": "pElDxdMGYY4N",
        "colab_type": "code",
        "outputId": "5da03383-a1b2-4d80-ff9f-b318c5919bf5",
        "colab": {
          "base_uri": "https://localhost:8080/",
          "height": 334
        }
      },
      "cell_type": "code",
      "source": [
        "plt.hist(dataset.train_labels, bins=np.linspace(0, 9.5, 20))\n",
        "\n",
        "plt.xticks(range(10))\n",
        "plt.xlabel('Label')\n",
        "plt.ylabel('Number of Samples')\n",
        "plt.show()"
      ],
      "execution_count": 7,
      "outputs": [
        {
          "output_type": "stream",
          "text": [
            "/usr/local/lib/python3.6/dist-packages/torchvision/datasets/mnist.py:43: UserWarning: train_labels has been renamed targets\n",
            "  warnings.warn(\"train_labels has been renamed targets\")\n"
          ],
          "name": "stderr"
        },
        {
          "output_type": "display_data",
          "data": {
            "image/png": "[encoded data removed]",
            "text/plain": [
              "<Figure size 432x288 with 1 Axes>"
            ]
          },
          "metadata": {
            "tags": []
          }
        }
      ]
    },
    {
      "metadata": {
        "id": "utC9sEi3YY4T",
        "colab_type": "text"
      },
      "cell_type": "markdown",
      "source": [
        "Plot some examples:"
      ]
    },
    {
      "metadata": {
        "scrolled": false,
        "id": "IkZVyKK7YY4W",
        "colab_type": "code",
        "outputId": "703a6997-4c8f-4470-d7fc-1aa9c6e16ef5",
        "colab": {
          "base_uri": "https://localhost:8080/",
          "height": 685
        }
      },
      "cell_type": "code",
      "source": [
        "n_images = 5\n",
        "\n",
        "fig, axes = plt.subplots(len(np.unique(dataset.train_labels)), n_images, figsize=(10, 10))\n",
        "# fig.subplots_adjust(wspace=-0.7)\n",
        "\n",
        "for label in np.unique(dataset.train_labels):\n",
        "    axes[label, 0].text(-20, 20, str(label), size=20)\n",
        "    \n",
        "    for image_i, image in enumerate(dataset.train_data.numpy()[dataset.train_labels.numpy() == label][:n_images]):\n",
        "        axes[label, image_i].imshow(image, interpolation='bilinear', cmap='Greys')\n",
        "        axes[label, image_i].axis('off')"
      ],
      "execution_count": 8,
      "outputs": [
        {
          "output_type": "stream",
          "text": [
            "/usr/local/lib/python3.6/dist-packages/torchvision/datasets/mnist.py:43: UserWarning: train_labels has been renamed targets\n",
            "  warnings.warn(\"train_labels has been renamed targets\")\n",
            "/usr/local/lib/python3.6/dist-packages/torchvision/datasets/mnist.py:53: UserWarning: train_data has been renamed data\n",
            "  warnings.warn(\"train_data has been renamed data\")\n"
          ],
          "name": "stderr"
        },
        {
          "output_type": "display_data",
          "data": {
            "image/png": "[encoded data removed]",
            "text/plain": [
              "<Figure size 720x720 with 50 Axes>"
            ]
          },
          "metadata": {
            "tags": []
          }
        }
      ]
    },
    {
      "metadata": {
        "id": "a-iBWe6-YY4b",
        "colab_type": "text"
      },
      "cell_type": "markdown",
      "source": [
        "Setup dataloader:"
      ]
    },
    {
      "metadata": {
        "id": "385O0WgbYY4e",
        "colab_type": "code",
        "colab": {}
      },
      "cell_type": "code",
      "source": [
        "dataloader = DataLoader(\n",
        "    dataset=dataset,\n",
        "    batch_size=batch_size, \n",
        "    shuffle=True,\n",
        "    num_workers=1\n",
        ")"
      ],
      "execution_count": 0,
      "outputs": []
    },
    {
      "metadata": {
        "id": "TaMYrTgAYY4m",
        "colab_type": "text"
      },
      "cell_type": "markdown",
      "source": [
        "## What is GAN?\n",
        "\n",
        "GANs are a framework for teaching a DL model to capture the training data’s distribution so we can generate new data from that same distribution. GANs were invented by Ian Goodfellow in 2014 and first\n",
        "described in the paper [Generative Adversarial Nets](https://papers.nips.cc/paper/5423-generative-adversarial-nets.pdf). They are made of two distinct models, a *generator* and a *discriminator*. The job of the generator is to spawn ‘fake’ images that look like the training images. The job of the discriminator is to look at an image and output whether or not it is a real training image or a fake image from the generator. During training, the generator is constantly trying to outsmart the discriminator by generating better and better fakes, while the discriminator is working to become a better detective and correctly classify the real and fake images. The equilibrium of this game is when the generator is generating perfect fakes that look as if they came directly from the training data, and the discriminator is left to always guess at 50% confidence that the generator output is real or fake.\n",
        "\n",
        "Now, lets define some notation to be used throughout tutorial starting with the discriminator. Let $x$ be data representing an image. $D(x)$ is the discriminator network which outputs the (scalar) probability that $x$ came from training data rather than the generator. Here, since we are dealing with images the input to $D(x)$ is an image of size 28x28. Intuitively, $D(x)$ should be HIGH when $x$ comes from training data and LOW when $x$ comes from the generator. $D(x)$ can also be thought of as a traditional binary classifier.\n",
        "\n",
        "For the generator’s notation, let $z$ be a latent space vector sampled from a standard normal distribution. $G(z)$ represents the generator function which maps the latent vector $z$ to data-space. The goal of $G$ is to estimate the distribution that the training data comes from ($p_{data}$) so it can generate fake samples from that estimated distribution ($p_g$).\n",
        "\n",
        "So, $D(G(z))$ is the probability (scalar) that the output of the generator $G$ is a real image. As described in Goodfellow’s paper, $D$ and $G$ play a minimax game in which $D$ tries to maximize the probability it correctly classifies reals and fakes ($logD(x)$), and $G$ tries to minimize the probability that $D$ will predict its outputs are fake ($log(1-D(G(x)))$).\n",
        "\n",
        "From the paper, the GAN loss function is\n",
        "\n",
        "\\begin{align}\\underset{G}{\\text{min}} \\underset{D}{\\text{max}}V(D,G) = \\mathbb{E}_{x\\sim p_{data}(x)}\\big[logD(x)\\big] + \\mathbb{E}_{z\\sim p_{z}(z)}\\big[log(1-D(G(x)))\\big]\\end{align}\n",
        "\n",
        "In theory, the solution to this minimax game is where $p_g = p_{data}$, and the discriminator guesses randomly if the inputs are real or fake. However, the convergence theory of GANs is still being actively researched and in reality models do not always"
      ]
    },
    {
      "metadata": {
        "id": "lHDTZ-CeYY4n",
        "colab_type": "text"
      },
      "cell_type": "markdown",
      "source": [
        "## Task 1 (1 point). Model"
      ]
    },
    {
      "metadata": {
        "id": "qhpk9BlDYY4o",
        "colab_type": "text"
      },
      "cell_type": "markdown",
      "source": [
        "GAN consits of two main parts:\n",
        "1. **Generator**: generates images from noise vector\n",
        "2. **Discriminator**: classifies real images from generated (fake) ones"
      ]
    },
    {
      "metadata": {
        "id": "b_cRsM2kYY4p",
        "colab_type": "text"
      },
      "cell_type": "markdown",
      "source": [
        "### Generator\n",
        "The generator, $G$, is designed to map the latent space vector ($z$) to data-space. Since our data are images, converting $z$ to data-space means ultimately creating a image with the same size as the training images (i.e. 28x28). In practice, this is\n",
        "accomplished through a series of strided two dimensional convolutional transpose layers, but for simplicity we'll use linear model. The output of the generator is fed through a tanh function\n",
        "to return it to the input data range of $[-1,1]$.\n",
        "\n",
        "That's how our generator will work: it takes noise vector of shape **nz**, process it with 5 linear layers (with **256** neurons each) and outputs image (vector of shape **784** = 28x28) pushing it through [Tanh](https://pytorch.org/docs/stable/nn.html#torch.nn.Tanh) activation function. As a nonlinearity we'll use [Leacky ReLU](https://pytorch.org/docs/stable/nn.html#torch.nn.LeakyReLU) with negative slope parameter of **0.2**. Let's implement generator:"
      ]
    },
    {
      "metadata": {
        "id": "luFc0r2GYY4q",
        "colab_type": "code",
        "colab": {}
      },
      "cell_type": "code",
      "source": [
        "nz = 64\n",
        "\n",
        "G = nn.Sequential(\n",
        "    nn.Linear(nz, 256),\n",
        "    nn.LeakyReLU(0.2),\n",
        "    nn.Linear(256, 256),\n",
        "    nn.LeakyReLU(0.2),\n",
        "    nn.Linear(256, 256),\n",
        "    nn.LeakyReLU(0.2),\n",
        "    nn.Linear(256, 256),\n",
        "    nn.LeakyReLU(0.2),\n",
        "    nn.Linear(256, 28 * 28),\n",
        "    nn.Tanh()\n",
        ").to(device)"
      ],
      "execution_count": 0,
      "outputs": []
    },
    {
      "metadata": {
        "id": "KOmJ6MRIYY4w",
        "colab_type": "text"
      },
      "cell_type": "markdown",
      "source": [
        "### Discriminator\n",
        "\n",
        "As mentioned, the discriminator, $D$, is a binary classification network that takes an image as input and outputs a scalar probability that the input image is real (as opposed to fake). Here, $D$ takes a 28x28 input image, processes it through a series of linear layers with nonlinearities and outputs the final probability through a Sigmoid activation function.\n",
        "\n",
        "That's how our discriminator will work: it takes image (vector of shape **784** = 28x28), process it with 5 linear layers (with **256** neurons each) and outputs classification score (vector of size 1) pushing it through [Sigmoid](https://pytorch.org/docs/stable/nn.html#torch.nn.Sigmoid) activation function. As a nonlinearity we'll also use [Leacky ReLU](https://pytorch.org/docs/stable/nn.html#torch.nn.LeakyReLU) with negative slope parameter of **0.2**. Let's implement discriminator:"
      ]
    },
    {
      "metadata": {
        "id": "fWM4iHTfYY4x",
        "colab_type": "code",
        "colab": {}
      },
      "cell_type": "code",
      "source": [
        "# Discriminator\n",
        "D = nn.Sequential(\n",
        "    nn.Linear(28 * 28, 256),\n",
        "    nn.LeakyReLU(0.2),\n",
        "    nn.Linear(256, 256),\n",
        "    nn.LeakyReLU(0.2),\n",
        "    nn.Linear(256, 256),\n",
        "    nn.LeakyReLU(0.2),\n",
        "    nn.Linear(256, 256),\n",
        "    nn.LeakyReLU(0.2),\n",
        "    nn.Linear(256, 1),\n",
        "    nn.Sigmoid()\n",
        ").to(device)"
      ],
      "execution_count": 0,
      "outputs": []
    },
    {
      "metadata": {
        "id": "7A7Z54qMYY40",
        "colab_type": "code",
        "outputId": "a7ec650d-7c42-4e1e-e164-c5222fbfa3af",
        "colab": {
          "base_uri": "https://localhost:8080/",
          "height": 52
        }
      },
      "cell_type": "code",
      "source": [
        "dumpy_input = torch.rand(batch_size, nz).to(device)\n",
        "print(G(dumpy_input).shape)\n",
        "\n",
        "dumpy_input_2 = torch.rand(batch_size, 784).to(device)\n",
        "print(D(dumpy_input_2).shape)"
      ],
      "execution_count": 12,
      "outputs": [
        {
          "output_type": "stream",
          "text": [
            "torch.Size([100, 784])\n",
            "torch.Size([100, 1])\n"
          ],
          "name": "stdout"
        }
      ]
    },
    {
      "metadata": {
        "id": "pOFPdTFtYY45",
        "colab_type": "text"
      },
      "cell_type": "markdown",
      "source": [
        "## Loss functions and optimizers"
      ]
    },
    {
      "metadata": {
        "id": "wNTXqXMxYY46",
        "colab_type": "text"
      },
      "cell_type": "markdown",
      "source": [
        "With $D$ and $G$ setup, we can specify how they learn through the loss functions and optimizers. We will use the [Binary Cross Entropy loss](https://pytorch.org/docs/stable/nn.html#torch.nn.BCELoss) function which is defined in PyTorch as:\n",
        "\n",
        "\\begin{align}\\ell(x, y) = L = \\{l_1,\\dots,l_N\\}^\\top, \\quad l_n = - \\left[ y_n \\cdot \\log x_n + (1 - y_n) \\cdot \\log (1 - x_n) \\right]\\end{align}\n",
        "\n",
        "Notice how this function provides the calculation of both log components in the objective function (i.e. $log(D(x))$ and $log(1-D(G(z)))$). We can specify what part of the BCE equation to use with the $y$ input. This is accomplished in the training loop which is coming up soon, but it is important to understand how we can choose which component we wish to calculate just by changing $y$ (i.e. GT labels).\n",
        "\n",
        "Next, we define our real label as 1 and the fake label as 0. These labels will be used when calculating the losses of $D$ and $G$, and this is also the convention used in the original GAN paper. Finally, we set up two separate optimizers, one for $D$ and\n",
        "one for $G$."
      ]
    },
    {
      "metadata": {
        "id": "ggJHOGhtYY47",
        "colab_type": "code",
        "colab": {}
      },
      "cell_type": "code",
      "source": [
        "criterion = nn.BCELoss()\n",
        "\n",
        "real_label = 1\n",
        "fake_label = 0\n",
        "\n",
        "d_optimizer = torch.optim.Adam(D.parameters(), lr=0.0003)\n",
        "g_optimizer = torch.optim.Adam(G.parameters(), lr=0.0003)"
      ],
      "execution_count": 0,
      "outputs": []
    },
    {
      "metadata": {
        "id": "rNeZEyCwYY4_",
        "colab_type": "text"
      },
      "cell_type": "markdown",
      "source": [
        "For keeping track of the generator’s learning progression, we will generate a fixed batch of latent vectors that are drawn from a Gaussian distribution (i.e. fixed_noise) . In the training loop, we will periodically input this fixed_noise into $G$, and over the iterations we will see images form out of the noise:"
      ]
    },
    {
      "metadata": {
        "id": "9TYctxpoYY5B",
        "colab_type": "code",
        "colab": {}
      },
      "cell_type": "code",
      "source": [
        "fixed_noise = torch.randn(64, nz).to(device)"
      ],
      "execution_count": 0,
      "outputs": []
    },
    {
      "metadata": {
        "id": "5ngbR9qYYY5E",
        "colab_type": "text"
      },
      "cell_type": "markdown",
      "source": [
        "## Task 2 (3 points). Train-loop"
      ]
    },
    {
      "metadata": {
        "id": "hj5RIALJYY5F",
        "colab_type": "text"
      },
      "cell_type": "markdown",
      "source": [
        "Make dirs to store training progress:"
      ]
    },
    {
      "metadata": {
        "id": "h4V3X7YqYY5G",
        "colab_type": "code",
        "colab": {}
      },
      "cell_type": "code",
      "source": [
        "os.makedirs(\"./images\", exist_ok=True)\n",
        "os.makedirs(\"./weights\", exist_ok=True)"
      ],
      "execution_count": 0,
      "outputs": []
    },
    {
      "metadata": {
        "id": "HBL1HQd5YY5I",
        "colab_type": "text"
      },
      "cell_type": "markdown",
      "source": [
        "PyTorch allows you to build **dynamic graphs** in a very intuitive and pythonic way. \n",
        "\n",
        "You should write the training loop yourself, looping through the epochs and the batches.\n",
        "\n",
        "Although this adds additional boilerplate and room for error when compared to libraries like Keras, this dynamic construction gives the flexibility required for exotic train loops that do not fit the `model.fit(...)` paradigm, such as GANs."
      ]
    },
    {
      "metadata": {
        "id": "KPm6G30YYY5J",
        "colab_type": "code",
        "outputId": "4374b1c7-ceeb-4d14-c17f-e349f65a2f19",
        "colab": {
          "base_uri": "https://localhost:8080/",
          "height": 6971
        }
      },
      "cell_type": "code",
      "source": [
        "n_epochs = 200\n",
        "\n",
        "for epoch in range(n_epochs):\n",
        "    for batch_number, (images, _) in enumerate(dataloader):\n",
        "        current_batch_size = images.shape[0]\n",
        "        \n",
        "        # reshape training dataset images from (batch_size, 28, 28) to (batch_size, 28*28) for processing through fully-connected net\n",
        "        images = images.view(current_batch_size, -1).to(device)\n",
        "\n",
        "        # create targets for the discriminator network D (fill it with real_label or fake_label value)\n",
        "        real_labels = torch.full((current_batch_size, 1), real_label).to(device)\n",
        "        fake_labels = torch.full((current_batch_size, 1), fake_label).to(device)\n",
        "\n",
        "        # 1) Train discriminator\n",
        "        \n",
        "        # evaluate the discriminator on the real input images\n",
        "        real_scores = D(images)\n",
        "        \n",
        "        # compute the discriminator loss with respect to the real labels\n",
        "        d_loss_real = criterion(real_scores, real_labels)\n",
        "\n",
        "        # draw random nz-dimensional noise vectors as inputs to the generator network\n",
        "        z = torch.randn(current_batch_size, nz).to(device) # the latents space is nz\n",
        "        \n",
        "        # transform the noise through the generator network to get synthetic images\n",
        "        fake_images = G(z)\n",
        "        \n",
        "        # evaluate the discriminator on the fake images\n",
        "        fake_scores = D(fake_images)\n",
        "        \n",
        "        # compute the discriminator loss with respect to the fake labels\n",
        "        d_loss_fake = criterion(fake_scores, fake_labels)\n",
        "\n",
        "        # backprop + optimize the discriminator\n",
        "        d_loss = d_loss_real + d_loss_fake\n",
        "        \n",
        "        D.zero_grad()\n",
        "        d_loss.backward()\n",
        "        d_optimizer.step()\n",
        "\n",
        "        # 2) Train generator\n",
        "        \n",
        "        # draw random nz-dimensional noise vectors as inputs to the generator network\n",
        "        z = torch.randn(current_batch_size, nz).to(device)\n",
        "        \n",
        "        # transform the noise through the generator network to get synthetic images\n",
        "        fake_images = G(z)\n",
        "        \n",
        "        # evaluate the (new) discriminator on the fake images\n",
        "        fake_scores = D(fake_images)\n",
        "\n",
        "        # compute the cross-entropy loss with \"real\" as target (1s). This is what the G wants to do\n",
        "        g_loss = criterion(fake_scores, real_labels)\n",
        "\n",
        "        # backprop + optimize the generator\n",
        "        D.zero_grad()\n",
        "        G.zero_grad()\n",
        "        g_loss.backward()\n",
        "        g_optimizer.step()\n",
        "\n",
        "        if (batch_number + 1) % 300 == 0:\n",
        "            print('Epoch [%d/%d], Step[%d/%d], d_loss: %.4f, '\n",
        "                  'g_loss: %.4f, Mean D(x): %.2f, Mean D(G(z)): %.2f' \n",
        "                  %(epoch,\n",
        "                    n_epochs,\n",
        "                    batch_number + 1,\n",
        "                    len(dataloader),\n",
        "                    d_loss.item(),\n",
        "                    g_loss.item(),\n",
        "                    real_scores.mean(),\n",
        "                    fake_scores.mean())\n",
        "            )\n",
        "    \n",
        "    # Save fixed noise images\n",
        "    fixed_noise_images = G(fixed_noise)\n",
        "    fixed_noise_images = fixed_noise_images.view(fixed_noise_images.shape[0], 1, 28, 28)\n",
        "    torchvision.utils.save_image(denorm(fixed_noise_images), './images/fixed_noise_images-%0.3d.png' % (epoch + 1))\n",
        "\n",
        "    # Save the trained parameters \n",
        "    torch.save(G.state_dict(), './weights/generator-%0.3d.pkl' % (epoch + 1))\n",
        "    torch.save(D.state_dict(), './weights/discriminator-%0.3d.pkl' % (epoch + 1))"
      ],
      "execution_count": 16,
      "outputs": [
        {
          "output_type": "stream",
          "text": [
            "Epoch [0/200], Step[300/600], d_loss: 0.2332, g_loss: 5.9819, Mean D(x): 0.90, Mean D(G(z)): 0.00\n",
            "Epoch [0/200], Step[600/600], d_loss: 0.5267, g_loss: 4.8506, Mean D(x): 0.84, Mean D(G(z)): 0.02\n",
            "Epoch [1/200], Step[300/600], d_loss: 0.0574, g_loss: 6.7672, Mean D(x): 1.00, Mean D(G(z)): 0.01\n",
            "Epoch [1/200], Step[600/600], d_loss: 0.1536, g_loss: 5.4707, Mean D(x): 0.93, Mean D(G(z)): 0.01\n",
            "Epoch [2/200], Step[300/600], d_loss: 0.2856, g_loss: 4.7490, Mean D(x): 0.95, Mean D(G(z)): 0.02\n",
            "Epoch [2/200], Step[600/600], d_loss: 0.3255, g_loss: 4.0573, Mean D(x): 0.89, Mean D(G(z)): 0.03\n",
            "Epoch [3/200], Step[300/600], d_loss: 0.1334, g_loss: 4.0038, Mean D(x): 0.96, Mean D(G(z)): 0.02\n",
            "Epoch [3/200], Step[600/600], d_loss: 0.2473, g_loss: 5.0648, Mean D(x): 0.92, Mean D(G(z)): 0.01\n",
            "Epoch [4/200], Step[300/600], d_loss: 0.1337, g_loss: 4.2281, Mean D(x): 0.97, Mean D(G(z)): 0.03\n",
            "Epoch [4/200], Step[600/600], d_loss: 0.1594, g_loss: 3.5492, Mean D(x): 0.97, Mean D(G(z)): 0.04\n",
            "Epoch [5/200], Step[300/600], d_loss: 0.2628, g_loss: 3.3906, Mean D(x): 0.90, Mean D(G(z)): 0.04\n",
            "Epoch [5/200], Step[600/600], d_loss: 0.4309, g_loss: 3.7928, Mean D(x): 0.88, Mean D(G(z)): 0.03\n",
            "Epoch [6/200], Step[300/600], d_loss: 0.4995, g_loss: 3.9985, Mean D(x): 0.90, Mean D(G(z)): 0.05\n",
            "Epoch [6/200], Step[600/600], d_loss: 0.2886, g_loss: 3.3811, Mean D(x): 0.93, Mean D(G(z)): 0.04\n",
            "Epoch [7/200], Step[300/600], d_loss: 0.2682, g_loss: 3.7643, Mean D(x): 0.92, Mean D(G(z)): 0.04\n",
            "Epoch [7/200], Step[600/600], d_loss: 0.3599, g_loss: 3.4188, Mean D(x): 0.95, Mean D(G(z)): 0.06\n",
            "Epoch [8/200], Step[300/600], d_loss: 0.3567, g_loss: 3.6908, Mean D(x): 0.91, Mean D(G(z)): 0.04\n",
            "Epoch [8/200], Step[600/600], d_loss: 0.5831, g_loss: 3.9116, Mean D(x): 0.80, Mean D(G(z)): 0.03\n",
            "Epoch [9/200], Step[300/600], d_loss: 0.4897, g_loss: 3.0996, Mean D(x): 0.87, Mean D(G(z)): 0.09\n",
            "Epoch [9/200], Step[600/600], d_loss: 0.6671, g_loss: 2.1363, Mean D(x): 0.93, Mean D(G(z)): 0.18\n",
            "Epoch [10/200], Step[300/600], d_loss: 0.3941, g_loss: 3.1657, Mean D(x): 0.88, Mean D(G(z)): 0.07\n",
            "Epoch [10/200], Step[600/600], d_loss: 0.4045, g_loss: 2.7992, Mean D(x): 0.88, Mean D(G(z)): 0.11\n",
            "Epoch [11/200], Step[300/600], d_loss: 0.5790, g_loss: 2.6648, Mean D(x): 0.84, Mean D(G(z)): 0.14\n",
            "Epoch [11/200], Step[600/600], d_loss: 0.4937, g_loss: 3.1552, Mean D(x): 0.89, Mean D(G(z)): 0.08\n",
            "Epoch [12/200], Step[300/600], d_loss: 0.7870, g_loss: 2.7795, Mean D(x): 0.82, Mean D(G(z)): 0.11\n",
            "Epoch [12/200], Step[600/600], d_loss: 0.7880, g_loss: 2.2654, Mean D(x): 0.76, Mean D(G(z)): 0.15\n",
            "Epoch [13/200], Step[300/600], d_loss: 0.6575, g_loss: 2.8851, Mean D(x): 0.80, Mean D(G(z)): 0.11\n",
            "Epoch [13/200], Step[600/600], d_loss: 0.7467, g_loss: 2.3052, Mean D(x): 0.77, Mean D(G(z)): 0.16\n",
            "Epoch [14/200], Step[300/600], d_loss: 0.4650, g_loss: 2.3741, Mean D(x): 0.88, Mean D(G(z)): 0.11\n",
            "Epoch [14/200], Step[600/600], d_loss: 0.4246, g_loss: 2.4972, Mean D(x): 0.90, Mean D(G(z)): 0.10\n",
            "Epoch [15/200], Step[300/600], d_loss: 0.4904, g_loss: 2.7240, Mean D(x): 0.88, Mean D(G(z)): 0.11\n",
            "Epoch [15/200], Step[600/600], d_loss: 0.7757, g_loss: 2.1222, Mean D(x): 0.84, Mean D(G(z)): 0.16\n",
            "Epoch [16/200], Step[300/600], d_loss: 0.3478, g_loss: 2.3668, Mean D(x): 0.87, Mean D(G(z)): 0.13\n",
            "Epoch [16/200], Step[600/600], d_loss: 0.6252, g_loss: 2.3117, Mean D(x): 0.80, Mean D(G(z)): 0.13\n",
            "Epoch [17/200], Step[300/600], d_loss: 0.6247, g_loss: 2.2961, Mean D(x): 0.78, Mean D(G(z)): 0.13\n",
            "Epoch [17/200], Step[600/600], d_loss: 0.6045, g_loss: 2.2036, Mean D(x): 0.82, Mean D(G(z)): 0.15\n",
            "Epoch [18/200], Step[300/600], d_loss: 0.6429, g_loss: 1.5709, Mean D(x): 0.88, Mean D(G(z)): 0.26\n",
            "Epoch [18/200], Step[600/600], d_loss: 0.5361, g_loss: 2.3582, Mean D(x): 0.87, Mean D(G(z)): 0.15\n",
            "Epoch [19/200], Step[300/600], d_loss: 0.6126, g_loss: 2.6542, Mean D(x): 0.82, Mean D(G(z)): 0.11\n",
            "Epoch [19/200], Step[600/600], d_loss: 0.5520, g_loss: 2.4231, Mean D(x): 0.84, Mean D(G(z)): 0.12\n",
            "Epoch [20/200], Step[300/600], d_loss: 0.8662, g_loss: 2.9040, Mean D(x): 0.72, Mean D(G(z)): 0.09\n",
            "Epoch [20/200], Step[600/600], d_loss: 0.8800, g_loss: 2.0988, Mean D(x): 0.77, Mean D(G(z)): 0.18\n",
            "Epoch [21/200], Step[300/600], d_loss: 0.5753, g_loss: 1.9820, Mean D(x): 0.85, Mean D(G(z)): 0.18\n",
            "Epoch [21/200], Step[600/600], d_loss: 0.5186, g_loss: 2.8112, Mean D(x): 0.87, Mean D(G(z)): 0.10\n",
            "Epoch [22/200], Step[300/600], d_loss: 0.7052, g_loss: 2.7162, Mean D(x): 0.75, Mean D(G(z)): 0.12\n",
            "Epoch [22/200], Step[600/600], d_loss: 0.7140, g_loss: 1.8586, Mean D(x): 0.72, Mean D(G(z)): 0.19\n",
            "Epoch [23/200], Step[300/600], d_loss: 0.5335, g_loss: 2.6351, Mean D(x): 0.81, Mean D(G(z)): 0.12\n",
            "Epoch [23/200], Step[600/600], d_loss: 0.5274, g_loss: 2.3493, Mean D(x): 0.81, Mean D(G(z)): 0.14\n",
            "Epoch [24/200], Step[300/600], d_loss: 0.7132, g_loss: 2.2176, Mean D(x): 0.74, Mean D(G(z)): 0.15\n",
            "Epoch [24/200], Step[600/600], d_loss: 0.5906, g_loss: 2.9690, Mean D(x): 0.78, Mean D(G(z)): 0.08\n",
            "Epoch [25/200], Step[300/600], d_loss: 0.6886, g_loss: 1.9665, Mean D(x): 0.88, Mean D(G(z)): 0.20\n",
            "Epoch [25/200], Step[600/600], d_loss: 0.6166, g_loss: 2.2886, Mean D(x): 0.80, Mean D(G(z)): 0.17\n",
            "Epoch [26/200], Step[300/600], d_loss: 0.9614, g_loss: 2.6493, Mean D(x): 0.75, Mean D(G(z)): 0.13\n",
            "Epoch [26/200], Step[600/600], d_loss: 0.4867, g_loss: 2.4781, Mean D(x): 0.86, Mean D(G(z)): 0.12\n",
            "Epoch [27/200], Step[300/600], d_loss: 0.6494, g_loss: 2.4019, Mean D(x): 0.80, Mean D(G(z)): 0.13\n",
            "Epoch [27/200], Step[600/600], d_loss: 0.7935, g_loss: 2.0620, Mean D(x): 0.80, Mean D(G(z)): 0.20\n",
            "Epoch [28/200], Step[300/600], d_loss: 0.8382, g_loss: 2.3066, Mean D(x): 0.77, Mean D(G(z)): 0.15\n",
            "Epoch [28/200], Step[600/600], d_loss: 0.5051, g_loss: 1.7939, Mean D(x): 0.86, Mean D(G(z)): 0.21\n",
            "Epoch [29/200], Step[300/600], d_loss: 0.6767, g_loss: 2.6331, Mean D(x): 0.76, Mean D(G(z)): 0.12\n",
            "Epoch [29/200], Step[600/600], d_loss: 0.7777, g_loss: 2.7078, Mean D(x): 0.87, Mean D(G(z)): 0.14\n",
            "Epoch [30/200], Step[300/600], d_loss: 0.8074, g_loss: 2.5186, Mean D(x): 0.76, Mean D(G(z)): 0.13\n",
            "Epoch [30/200], Step[600/600], d_loss: 0.7169, g_loss: 2.2646, Mean D(x): 0.75, Mean D(G(z)): 0.15\n",
            "Epoch [31/200], Step[300/600], d_loss: 0.8624, g_loss: 2.0281, Mean D(x): 0.76, Mean D(G(z)): 0.18\n",
            "Epoch [31/200], Step[600/600], d_loss: 0.5794, g_loss: 2.6178, Mean D(x): 0.87, Mean D(G(z)): 0.11\n",
            "Epoch [32/200], Step[300/600], d_loss: 0.6481, g_loss: 1.9559, Mean D(x): 0.74, Mean D(G(z)): 0.20\n",
            "Epoch [32/200], Step[600/600], d_loss: 0.5017, g_loss: 2.1803, Mean D(x): 0.84, Mean D(G(z)): 0.16\n",
            "Epoch [33/200], Step[300/600], d_loss: 0.6080, g_loss: 2.0589, Mean D(x): 0.79, Mean D(G(z)): 0.15\n",
            "Epoch [33/200], Step[600/600], d_loss: 0.8514, g_loss: 2.0458, Mean D(x): 0.76, Mean D(G(z)): 0.17\n",
            "Epoch [34/200], Step[300/600], d_loss: 0.9432, g_loss: 1.6424, Mean D(x): 0.68, Mean D(G(z)): 0.23\n",
            "Epoch [34/200], Step[600/600], d_loss: 0.8405, g_loss: 2.0935, Mean D(x): 0.76, Mean D(G(z)): 0.18\n",
            "Epoch [35/200], Step[300/600], d_loss: 0.6905, g_loss: 1.6198, Mean D(x): 0.80, Mean D(G(z)): 0.25\n",
            "Epoch [35/200], Step[600/600], d_loss: 0.7372, g_loss: 2.1977, Mean D(x): 0.79, Mean D(G(z)): 0.19\n",
            "Epoch [36/200], Step[300/600], d_loss: 0.7883, g_loss: 1.8776, Mean D(x): 0.72, Mean D(G(z)): 0.20\n",
            "Epoch [36/200], Step[600/600], d_loss: 0.9691, g_loss: 2.1974, Mean D(x): 0.73, Mean D(G(z)): 0.16\n",
            "Epoch [37/200], Step[300/600], d_loss: 0.9432, g_loss: 1.7225, Mean D(x): 0.74, Mean D(G(z)): 0.23\n",
            "Epoch [37/200], Step[600/600], d_loss: 0.8514, g_loss: 1.6747, Mean D(x): 0.72, Mean D(G(z)): 0.24\n",
            "Epoch [38/200], Step[300/600], d_loss: 0.9899, g_loss: 1.6422, Mean D(x): 0.75, Mean D(G(z)): 0.24\n",
            "Epoch [38/200], Step[600/600], d_loss: 0.7417, g_loss: 2.0588, Mean D(x): 0.78, Mean D(G(z)): 0.19\n",
            "Epoch [39/200], Step[300/600], d_loss: 1.0146, g_loss: 2.0305, Mean D(x): 0.70, Mean D(G(z)): 0.19\n",
            "Epoch [39/200], Step[600/600], d_loss: 0.5575, g_loss: 1.9916, Mean D(x): 0.82, Mean D(G(z)): 0.17\n",
            "Epoch [40/200], Step[300/600], d_loss: 0.8134, g_loss: 1.5955, Mean D(x): 0.69, Mean D(G(z)): 0.23\n",
            "Epoch [40/200], Step[600/600], d_loss: 0.8980, g_loss: 1.1933, Mean D(x): 0.72, Mean D(G(z)): 0.36\n",
            "Epoch [41/200], Step[300/600], d_loss: 0.7127, g_loss: 2.3548, Mean D(x): 0.72, Mean D(G(z)): 0.16\n",
            "Epoch [41/200], Step[600/600], d_loss: 0.6220, g_loss: 1.9194, Mean D(x): 0.84, Mean D(G(z)): 0.21\n",
            "Epoch [42/200], Step[300/600], d_loss: 0.5608, g_loss: 1.8915, Mean D(x): 0.84, Mean D(G(z)): 0.20\n",
            "Epoch [42/200], Step[600/600], d_loss: 0.7161, g_loss: 1.7046, Mean D(x): 0.79, Mean D(G(z)): 0.23\n",
            "Epoch [43/200], Step[300/600], d_loss: 0.8015, g_loss: 1.7821, Mean D(x): 0.69, Mean D(G(z)): 0.20\n",
            "Epoch [43/200], Step[600/600], d_loss: 0.8401, g_loss: 2.1317, Mean D(x): 0.71, Mean D(G(z)): 0.19\n",
            "Epoch [44/200], Step[300/600], d_loss: 0.7311, g_loss: 1.5046, Mean D(x): 0.80, Mean D(G(z)): 0.29\n",
            "Epoch [44/200], Step[600/600], d_loss: 0.6631, g_loss: 2.2013, Mean D(x): 0.77, Mean D(G(z)): 0.18\n",
            "Epoch [45/200], Step[300/600], d_loss: 0.7769, g_loss: 1.7842, Mean D(x): 0.76, Mean D(G(z)): 0.22\n",
            "Epoch [45/200], Step[600/600], d_loss: 0.8222, g_loss: 1.8705, Mean D(x): 0.70, Mean D(G(z)): 0.20\n",
            "Epoch [46/200], Step[300/600], d_loss: 0.6344, g_loss: 1.9128, Mean D(x): 0.77, Mean D(G(z)): 0.19\n",
            "Epoch [46/200], Step[600/600], d_loss: 0.6998, g_loss: 1.6702, Mean D(x): 0.79, Mean D(G(z)): 0.23\n",
            "Epoch [47/200], Step[300/600], d_loss: 0.7312, g_loss: 2.2330, Mean D(x): 0.77, Mean D(G(z)): 0.16\n",
            "Epoch [47/200], Step[600/600], d_loss: 0.9287, g_loss: 1.7023, Mean D(x): 0.70, Mean D(G(z)): 0.23\n",
            "Epoch [48/200], Step[300/600], d_loss: 0.7409, g_loss: 2.4048, Mean D(x): 0.78, Mean D(G(z)): 0.13\n",
            "Epoch [48/200], Step[600/600], d_loss: 0.7271, g_loss: 1.9022, Mean D(x): 0.78, Mean D(G(z)): 0.19\n",
            "Epoch [49/200], Step[300/600], d_loss: 0.5962, g_loss: 1.7511, Mean D(x): 0.80, Mean D(G(z)): 0.21\n",
            "Epoch [49/200], Step[600/600], d_loss: 0.7589, g_loss: 1.8535, Mean D(x): 0.80, Mean D(G(z)): 0.24\n",
            "Epoch [50/200], Step[300/600], d_loss: 0.6214, g_loss: 1.7733, Mean D(x): 0.84, Mean D(G(z)): 0.24\n",
            "Epoch [50/200], Step[600/600], d_loss: 0.9289, g_loss: 1.3689, Mean D(x): 0.77, Mean D(G(z)): 0.32\n",
            "Epoch [51/200], Step[300/600], d_loss: 0.9625, g_loss: 1.7070, Mean D(x): 0.69, Mean D(G(z)): 0.23\n",
            "Epoch [51/200], Step[600/600], d_loss: 0.7661, g_loss: 1.5357, Mean D(x): 0.77, Mean D(G(z)): 0.27\n",
            "Epoch [52/200], Step[300/600], d_loss: 0.8103, g_loss: 1.5835, Mean D(x): 0.75, Mean D(G(z)): 0.25\n",
            "Epoch [52/200], Step[600/600], d_loss: 0.9142, g_loss: 1.5397, Mean D(x): 0.72, Mean D(G(z)): 0.27\n",
            "Epoch [53/200], Step[300/600], d_loss: 1.0526, g_loss: 1.5480, Mean D(x): 0.64, Mean D(G(z)): 0.27\n",
            "Epoch [53/200], Step[600/600], d_loss: 0.8969, g_loss: 1.6819, Mean D(x): 0.66, Mean D(G(z)): 0.22\n",
            "Epoch [54/200], Step[300/600], d_loss: 0.9603, g_loss: 1.1779, Mean D(x): 0.71, Mean D(G(z)): 0.35\n",
            "Epoch [54/200], Step[600/600], d_loss: 0.8171, g_loss: 1.5746, Mean D(x): 0.75, Mean D(G(z)): 0.26\n",
            "Epoch [55/200], Step[300/600], d_loss: 0.8849, g_loss: 1.5675, Mean D(x): 0.80, Mean D(G(z)): 0.30\n",
            "Epoch [55/200], Step[600/600], d_loss: 0.8305, g_loss: 1.8128, Mean D(x): 0.73, Mean D(G(z)): 0.22\n",
            "Epoch [56/200], Step[300/600], d_loss: 1.0229, g_loss: 1.5819, Mean D(x): 0.71, Mean D(G(z)): 0.26\n",
            "Epoch [56/200], Step[600/600], d_loss: 1.1530, g_loss: 1.2380, Mean D(x): 0.76, Mean D(G(z)): 0.35\n",
            "Epoch [57/200], Step[300/600], d_loss: 1.0110, g_loss: 1.7467, Mean D(x): 0.69, Mean D(G(z)): 0.23\n",
            "Epoch [57/200], Step[600/600], d_loss: 0.9863, g_loss: 2.0116, Mean D(x): 0.72, Mean D(G(z)): 0.20\n",
            "Epoch [58/200], Step[300/600], d_loss: 0.8335, g_loss: 1.9306, Mean D(x): 0.72, Mean D(G(z)): 0.20\n",
            "Epoch [58/200], Step[600/600], d_loss: 0.8673, g_loss: 1.9647, Mean D(x): 0.74, Mean D(G(z)): 0.20\n",
            "Epoch [59/200], Step[300/600], d_loss: 1.0043, g_loss: 1.6786, Mean D(x): 0.66, Mean D(G(z)): 0.23\n",
            "Epoch [59/200], Step[600/600], d_loss: 0.7815, g_loss: 1.6815, Mean D(x): 0.70, Mean D(G(z)): 0.22\n",
            "Epoch [60/200], Step[300/600], d_loss: 0.9410, g_loss: 1.6308, Mean D(x): 0.65, Mean D(G(z)): 0.23\n",
            "Epoch [60/200], Step[600/600], d_loss: 0.9303, g_loss: 1.4483, Mean D(x): 0.70, Mean D(G(z)): 0.29\n",
            "Epoch [61/200], Step[300/600], d_loss: 0.9425, g_loss: 1.5891, Mean D(x): 0.67, Mean D(G(z)): 0.25\n",
            "Epoch [61/200], Step[600/600], d_loss: 1.0967, g_loss: 1.1436, Mean D(x): 0.70, Mean D(G(z)): 0.36\n",
            "Epoch [62/200], Step[300/600], d_loss: 0.7681, g_loss: 1.6962, Mean D(x): 0.74, Mean D(G(z)): 0.26\n",
            "Epoch [62/200], Step[600/600], d_loss: 0.8935, g_loss: 1.6800, Mean D(x): 0.70, Mean D(G(z)): 0.25\n",
            "Epoch [63/200], Step[300/600], d_loss: 0.8712, g_loss: 1.6470, Mean D(x): 0.72, Mean D(G(z)): 0.24\n",
            "Epoch [63/200], Step[600/600], d_loss: 0.8216, g_loss: 1.4880, Mean D(x): 0.73, Mean D(G(z)): 0.29\n",
            "Epoch [64/200], Step[300/600], d_loss: 1.0368, g_loss: 1.3296, Mean D(x): 0.70, Mean D(G(z)): 0.33\n",
            "Epoch [64/200], Step[600/600], d_loss: 0.7718, g_loss: 1.3969, Mean D(x): 0.73, Mean D(G(z)): 0.28\n",
            "Epoch [65/200], Step[300/600], d_loss: 0.8444, g_loss: 1.7706, Mean D(x): 0.68, Mean D(G(z)): 0.22\n",
            "Epoch [65/200], Step[600/600], d_loss: 1.1376, g_loss: 1.4135, Mean D(x): 0.70, Mean D(G(z)): 0.30\n",
            "Epoch [66/200], Step[300/600], d_loss: 0.8321, g_loss: 1.4716, Mean D(x): 0.75, Mean D(G(z)): 0.29\n",
            "Epoch [66/200], Step[600/600], d_loss: 0.8654, g_loss: 1.9808, Mean D(x): 0.72, Mean D(G(z)): 0.19\n",
            "Epoch [67/200], Step[300/600], d_loss: 0.9396, g_loss: 1.4401, Mean D(x): 0.71, Mean D(G(z)): 0.27\n",
            "Epoch [67/200], Step[600/600], d_loss: 0.9771, g_loss: 1.8648, Mean D(x): 0.63, Mean D(G(z)): 0.19\n",
            "Epoch [68/200], Step[300/600], d_loss: 0.8846, g_loss: 1.4041, Mean D(x): 0.67, Mean D(G(z)): 0.28\n",
            "Epoch [68/200], Step[600/600], d_loss: 0.8793, g_loss: 1.3584, Mean D(x): 0.76, Mean D(G(z)): 0.30\n",
            "Epoch [69/200], Step[300/600], d_loss: 1.1891, g_loss: 1.3304, Mean D(x): 0.60, Mean D(G(z)): 0.30\n",
            "Epoch [69/200], Step[600/600], d_loss: 0.9401, g_loss: 1.7315, Mean D(x): 0.67, Mean D(G(z)): 0.24\n",
            "Epoch [70/200], Step[300/600], d_loss: 0.9328, g_loss: 1.3957, Mean D(x): 0.70, Mean D(G(z)): 0.30\n",
            "Epoch [70/200], Step[600/600], d_loss: 1.0003, g_loss: 1.6463, Mean D(x): 0.71, Mean D(G(z)): 0.23\n",
            "Epoch [71/200], Step[300/600], d_loss: 0.8609, g_loss: 1.7493, Mean D(x): 0.68, Mean D(G(z)): 0.21\n",
            "Epoch [71/200], Step[600/600], d_loss: 0.7983, g_loss: 1.4427, Mean D(x): 0.72, Mean D(G(z)): 0.26\n",
            "Epoch [72/200], Step[300/600], d_loss: 0.7670, g_loss: 1.8105, Mean D(x): 0.74, Mean D(G(z)): 0.19\n",
            "Epoch [72/200], Step[600/600], d_loss: 0.9524, g_loss: 1.2671, Mean D(x): 0.68, Mean D(G(z)): 0.31\n",
            "Epoch [73/200], Step[300/600], d_loss: 1.1240, g_loss: 1.5015, Mean D(x): 0.73, Mean D(G(z)): 0.26\n",
            "Epoch [73/200], Step[600/600], d_loss: 0.8906, g_loss: 1.5439, Mean D(x): 0.70, Mean D(G(z)): 0.25\n",
            "Epoch [74/200], Step[300/600], d_loss: 0.9293, g_loss: 1.5595, Mean D(x): 0.75, Mean D(G(z)): 0.25\n",
            "Epoch [74/200], Step[600/600], d_loss: 1.1254, g_loss: 1.2716, Mean D(x): 0.66, Mean D(G(z)): 0.33\n",
            "Epoch [75/200], Step[300/600], d_loss: 1.0266, g_loss: 1.3018, Mean D(x): 0.66, Mean D(G(z)): 0.31\n",
            "Epoch [75/200], Step[600/600], d_loss: 0.9203, g_loss: 1.3812, Mean D(x): 0.74, Mean D(G(z)): 0.33\n",
            "Epoch [76/200], Step[300/600], d_loss: 0.8294, g_loss: 1.3684, Mean D(x): 0.76, Mean D(G(z)): 0.30\n",
            "Epoch [76/200], Step[600/600], d_loss: 0.8303, g_loss: 1.6374, Mean D(x): 0.73, Mean D(G(z)): 0.24\n",
            "Epoch [77/200], Step[300/600], d_loss: 0.9283, g_loss: 1.1957, Mean D(x): 0.68, Mean D(G(z)): 0.33\n",
            "Epoch [77/200], Step[600/600], d_loss: 0.8473, g_loss: 1.6190, Mean D(x): 0.68, Mean D(G(z)): 0.24\n",
            "Epoch [78/200], Step[300/600], d_loss: 0.8131, g_loss: 1.5677, Mean D(x): 0.74, Mean D(G(z)): 0.24\n",
            "Epoch [78/200], Step[600/600], d_loss: 1.1029, g_loss: 1.2657, Mean D(x): 0.62, Mean D(G(z)): 0.33\n",
            "Epoch [79/200], Step[300/600], d_loss: 0.9577, g_loss: 1.2862, Mean D(x): 0.69, Mean D(G(z)): 0.32\n",
            "Epoch [79/200], Step[600/600], d_loss: 0.9644, g_loss: 1.3768, Mean D(x): 0.75, Mean D(G(z)): 0.32\n",
            "Epoch [80/200], Step[300/600], d_loss: 0.9926, g_loss: 1.4928, Mean D(x): 0.63, Mean D(G(z)): 0.27\n",
            "Epoch [80/200], Step[600/600], d_loss: 1.0295, g_loss: 1.2276, Mean D(x): 0.67, Mean D(G(z)): 0.35\n",
            "Epoch [81/200], Step[300/600], d_loss: 1.1056, g_loss: 1.6731, Mean D(x): 0.64, Mean D(G(z)): 0.24\n",
            "Epoch [81/200], Step[600/600], d_loss: 0.7336, g_loss: 1.4969, Mean D(x): 0.75, Mean D(G(z)): 0.26\n",
            "Epoch [82/200], Step[300/600], d_loss: 1.0134, g_loss: 1.7571, Mean D(x): 0.67, Mean D(G(z)): 0.21\n",
            "Epoch [82/200], Step[600/600], d_loss: 0.9630, g_loss: 1.5581, Mean D(x): 0.69, Mean D(G(z)): 0.28\n",
            "Epoch [83/200], Step[300/600], d_loss: 1.1784, g_loss: 1.2911, Mean D(x): 0.60, Mean D(G(z)): 0.31\n",
            "Epoch [83/200], Step[600/600], d_loss: 0.9980, g_loss: 1.3321, Mean D(x): 0.65, Mean D(G(z)): 0.32\n",
            "Epoch [84/200], Step[300/600], d_loss: 0.8568, g_loss: 1.5647, Mean D(x): 0.78, Mean D(G(z)): 0.25\n",
            "Epoch [84/200], Step[600/600], d_loss: 0.6780, g_loss: 2.0475, Mean D(x): 0.76, Mean D(G(z)): 0.18\n",
            "Epoch [85/200], Step[300/600], d_loss: 0.9521, g_loss: 1.6037, Mean D(x): 0.65, Mean D(G(z)): 0.24\n",
            "Epoch [85/200], Step[600/600], d_loss: 0.9353, g_loss: 1.5950, Mean D(x): 0.72, Mean D(G(z)): 0.24\n",
            "Epoch [86/200], Step[300/600], d_loss: 0.9790, g_loss: 1.7284, Mean D(x): 0.72, Mean D(G(z)): 0.23\n",
            "Epoch [86/200], Step[600/600], d_loss: 0.9680, g_loss: 1.3223, Mean D(x): 0.70, Mean D(G(z)): 0.32\n",
            "Epoch [87/200], Step[300/600], d_loss: 0.8815, g_loss: 1.3412, Mean D(x): 0.71, Mean D(G(z)): 0.32\n",
            "Epoch [87/200], Step[600/600], d_loss: 0.9707, g_loss: 1.7584, Mean D(x): 0.64, Mean D(G(z)): 0.20\n",
            "Epoch [88/200], Step[300/600], d_loss: 0.9808, g_loss: 1.3433, Mean D(x): 0.69, Mean D(G(z)): 0.29\n",
            "Epoch [88/200], Step[600/600], d_loss: 0.8495, g_loss: 1.3492, Mean D(x): 0.72, Mean D(G(z)): 0.33\n",
            "Epoch [89/200], Step[300/600], d_loss: 0.9454, g_loss: 1.4013, Mean D(x): 0.70, Mean D(G(z)): 0.31\n",
            "Epoch [89/200], Step[600/600], d_loss: 0.8658, g_loss: 1.5110, Mean D(x): 0.69, Mean D(G(z)): 0.26\n",
            "Epoch [90/200], Step[300/600], d_loss: 0.9467, g_loss: 1.3900, Mean D(x): 0.68, Mean D(G(z)): 0.29\n",
            "Epoch [90/200], Step[600/600], d_loss: 0.8377, g_loss: 1.6488, Mean D(x): 0.67, Mean D(G(z)): 0.22\n",
            "Epoch [91/200], Step[300/600], d_loss: 0.9697, g_loss: 1.2491, Mean D(x): 0.67, Mean D(G(z)): 0.33\n",
            "Epoch [91/200], Step[600/600], d_loss: 0.9176, g_loss: 1.5309, Mean D(x): 0.70, Mean D(G(z)): 0.25\n",
            "Epoch [92/200], Step[300/600], d_loss: 1.0726, g_loss: 1.7856, Mean D(x): 0.59, Mean D(G(z)): 0.22\n",
            "Epoch [92/200], Step[600/600], d_loss: 1.1071, g_loss: 1.1787, Mean D(x): 0.72, Mean D(G(z)): 0.37\n",
            "Epoch [93/200], Step[300/600], d_loss: 1.1510, g_loss: 1.2716, Mean D(x): 0.62, Mean D(G(z)): 0.31\n",
            "Epoch [93/200], Step[600/600], d_loss: 0.8294, g_loss: 1.5315, Mean D(x): 0.75, Mean D(G(z)): 0.27\n",
            "Epoch [94/200], Step[300/600], d_loss: 1.0420, g_loss: 1.0966, Mean D(x): 0.64, Mean D(G(z)): 0.38\n",
            "Epoch [94/200], Step[600/600], d_loss: 1.1858, g_loss: 1.1421, Mean D(x): 0.69, Mean D(G(z)): 0.36\n",
            "Epoch [95/200], Step[300/600], d_loss: 0.9755, g_loss: 1.3763, Mean D(x): 0.69, Mean D(G(z)): 0.30\n",
            "Epoch [95/200], Step[600/600], d_loss: 0.9522, g_loss: 1.2610, Mean D(x): 0.69, Mean D(G(z)): 0.32\n",
            "Epoch [96/200], Step[300/600], d_loss: 0.9055, g_loss: 1.7673, Mean D(x): 0.75, Mean D(G(z)): 0.23\n",
            "Epoch [96/200], Step[600/600], d_loss: 1.1644, g_loss: 1.0779, Mean D(x): 0.64, Mean D(G(z)): 0.39\n",
            "Epoch [97/200], Step[300/600], d_loss: 0.6524, g_loss: 1.5306, Mean D(x): 0.77, Mean D(G(z)): 0.27\n",
            "Epoch [97/200], Step[600/600], d_loss: 0.9600, g_loss: 1.3612, Mean D(x): 0.67, Mean D(G(z)): 0.29\n",
            "Epoch [98/200], Step[300/600], d_loss: 0.8834, g_loss: 1.1856, Mean D(x): 0.72, Mean D(G(z)): 0.34\n",
            "Epoch [98/200], Step[600/600], d_loss: 1.1168, g_loss: 1.5607, Mean D(x): 0.64, Mean D(G(z)): 0.27\n",
            "Epoch [99/200], Step[300/600], d_loss: 0.9437, g_loss: 1.2695, Mean D(x): 0.67, Mean D(G(z)): 0.34\n",
            "Epoch [99/200], Step[600/600], d_loss: 0.9506, g_loss: 1.3485, Mean D(x): 0.67, Mean D(G(z)): 0.28\n",
            "Epoch [100/200], Step[300/600], d_loss: 1.1654, g_loss: 1.3900, Mean D(x): 0.67, Mean D(G(z)): 0.30\n",
            "Epoch [100/200], Step[600/600], d_loss: 0.9787, g_loss: 1.3924, Mean D(x): 0.68, Mean D(G(z)): 0.27\n",
            "Epoch [101/200], Step[300/600], d_loss: 0.9514, g_loss: 1.4330, Mean D(x): 0.71, Mean D(G(z)): 0.32\n",
            "Epoch [101/200], Step[600/600], d_loss: 1.0508, g_loss: 1.3170, Mean D(x): 0.65, Mean D(G(z)): 0.31\n",
            "Epoch [102/200], Step[300/600], d_loss: 0.9647, g_loss: 1.5379, Mean D(x): 0.69, Mean D(G(z)): 0.27\n",
            "Epoch [102/200], Step[600/600], d_loss: 1.0446, g_loss: 1.2154, Mean D(x): 0.62, Mean D(G(z)): 0.33\n",
            "Epoch [103/200], Step[300/600], d_loss: 1.0736, g_loss: 1.3459, Mean D(x): 0.64, Mean D(G(z)): 0.31\n",
            "Epoch [103/200], Step[600/600], d_loss: 0.8911, g_loss: 1.3144, Mean D(x): 0.69, Mean D(G(z)): 0.32\n",
            "Epoch [104/200], Step[300/600], d_loss: 1.0467, g_loss: 1.2711, Mean D(x): 0.65, Mean D(G(z)): 0.31\n",
            "Epoch [104/200], Step[600/600], d_loss: 0.9146, g_loss: 1.3826, Mean D(x): 0.71, Mean D(G(z)): 0.29\n",
            "Epoch [105/200], Step[300/600], d_loss: 1.0754, g_loss: 1.0044, Mean D(x): 0.74, Mean D(G(z)): 0.41\n",
            "Epoch [105/200], Step[600/600], d_loss: 1.0225, g_loss: 1.2285, Mean D(x): 0.68, Mean D(G(z)): 0.35\n",
            "Epoch [106/200], Step[300/600], d_loss: 0.8661, g_loss: 1.5471, Mean D(x): 0.74, Mean D(G(z)): 0.27\n",
            "Epoch [106/200], Step[600/600], d_loss: 0.9943, g_loss: 1.1110, Mean D(x): 0.73, Mean D(G(z)): 0.36\n",
            "Epoch [107/200], Step[300/600], d_loss: 0.9088, g_loss: 1.4531, Mean D(x): 0.67, Mean D(G(z)): 0.27\n",
            "Epoch [107/200], Step[600/600], d_loss: 1.0152, g_loss: 1.4980, Mean D(x): 0.71, Mean D(G(z)): 0.28\n",
            "Epoch [108/200], Step[300/600], d_loss: 0.8568, g_loss: 1.7655, Mean D(x): 0.70, Mean D(G(z)): 0.22\n",
            "Epoch [108/200], Step[600/600], d_loss: 0.9849, g_loss: 1.5776, Mean D(x): 0.70, Mean D(G(z)): 0.26\n",
            "Epoch [109/200], Step[300/600], d_loss: 0.9485, g_loss: 1.7254, Mean D(x): 0.67, Mean D(G(z)): 0.25\n",
            "Epoch [109/200], Step[600/600], d_loss: 0.7576, g_loss: 1.2764, Mean D(x): 0.76, Mean D(G(z)): 0.33\n",
            "Epoch [110/200], Step[300/600], d_loss: 0.9035, g_loss: 1.7015, Mean D(x): 0.69, Mean D(G(z)): 0.25\n",
            "Epoch [110/200], Step[600/600], d_loss: 0.7824, g_loss: 1.5313, Mean D(x): 0.78, Mean D(G(z)): 0.27\n",
            "Epoch [111/200], Step[300/600], d_loss: 0.9400, g_loss: 1.3542, Mean D(x): 0.70, Mean D(G(z)): 0.31\n",
            "Epoch [111/200], Step[600/600], d_loss: 0.9445, g_loss: 1.6003, Mean D(x): 0.67, Mean D(G(z)): 0.25\n",
            "Epoch [112/200], Step[300/600], d_loss: 0.9992, g_loss: 1.7467, Mean D(x): 0.69, Mean D(G(z)): 0.25\n",
            "Epoch [112/200], Step[600/600], d_loss: 0.9234, g_loss: 1.6729, Mean D(x): 0.70, Mean D(G(z)): 0.26\n",
            "Epoch [113/200], Step[300/600], d_loss: 0.9528, g_loss: 1.4686, Mean D(x): 0.71, Mean D(G(z)): 0.28\n",
            "Epoch [113/200], Step[600/600], d_loss: 1.0939, g_loss: 1.3229, Mean D(x): 0.61, Mean D(G(z)): 0.30\n",
            "Epoch [114/200], Step[300/600], d_loss: 0.9776, g_loss: 1.2916, Mean D(x): 0.71, Mean D(G(z)): 0.32\n",
            "Epoch [114/200], Step[600/600], d_loss: 1.0245, g_loss: 1.2784, Mean D(x): 0.64, Mean D(G(z)): 0.32\n",
            "Epoch [115/200], Step[300/600], d_loss: 1.0745, g_loss: 1.2249, Mean D(x): 0.68, Mean D(G(z)): 0.35\n",
            "Epoch [115/200], Step[600/600], d_loss: 0.9231, g_loss: 1.4683, Mean D(x): 0.68, Mean D(G(z)): 0.26\n",
            "Epoch [116/200], Step[300/600], d_loss: 0.8951, g_loss: 1.3821, Mean D(x): 0.77, Mean D(G(z)): 0.31\n",
            "Epoch [116/200], Step[600/600], d_loss: 1.0048, g_loss: 1.1185, Mean D(x): 0.62, Mean D(G(z)): 0.37\n",
            "Epoch [117/200], Step[300/600], d_loss: 1.2675, g_loss: 1.3953, Mean D(x): 0.58, Mean D(G(z)): 0.29\n",
            "Epoch [117/200], Step[600/600], d_loss: 0.9876, g_loss: 1.4313, Mean D(x): 0.73, Mean D(G(z)): 0.29\n",
            "Epoch [118/200], Step[300/600], d_loss: 1.0574, g_loss: 1.5158, Mean D(x): 0.66, Mean D(G(z)): 0.25\n",
            "Epoch [118/200], Step[600/600], d_loss: 1.1480, g_loss: 0.9994, Mean D(x): 0.63, Mean D(G(z)): 0.39\n",
            "Epoch [119/200], Step[300/600], d_loss: 1.0150, g_loss: 1.1637, Mean D(x): 0.72, Mean D(G(z)): 0.36\n",
            "Epoch [119/200], Step[600/600], d_loss: 1.0177, g_loss: 1.1833, Mean D(x): 0.71, Mean D(G(z)): 0.34\n",
            "Epoch [120/200], Step[300/600], d_loss: 1.1453, g_loss: 1.1759, Mean D(x): 0.65, Mean D(G(z)): 0.35\n",
            "Epoch [120/200], Step[600/600], d_loss: 0.8560, g_loss: 1.4965, Mean D(x): 0.70, Mean D(G(z)): 0.27\n",
            "Epoch [121/200], Step[300/600], d_loss: 1.0801, g_loss: 1.3592, Mean D(x): 0.60, Mean D(G(z)): 0.29\n",
            "Epoch [121/200], Step[600/600], d_loss: 1.1376, g_loss: 1.2666, Mean D(x): 0.59, Mean D(G(z)): 0.32\n",
            "Epoch [122/200], Step[300/600], d_loss: 0.7943, g_loss: 1.2430, Mean D(x): 0.75, Mean D(G(z)): 0.34\n",
            "Epoch [122/200], Step[600/600], d_loss: 0.7955, g_loss: 1.3987, Mean D(x): 0.72, Mean D(G(z)): 0.28\n",
            "Epoch [123/200], Step[300/600], d_loss: 0.9287, g_loss: 1.2294, Mean D(x): 0.68, Mean D(G(z)): 0.31\n",
            "Epoch [123/200], Step[600/600], d_loss: 0.9780, g_loss: 1.1741, Mean D(x): 0.66, Mean D(G(z)): 0.36\n",
            "Epoch [124/200], Step[300/600], d_loss: 0.8579, g_loss: 1.7413, Mean D(x): 0.70, Mean D(G(z)): 0.22\n",
            "Epoch [124/200], Step[600/600], d_loss: 0.8854, g_loss: 1.3359, Mean D(x): 0.72, Mean D(G(z)): 0.30\n",
            "Epoch [125/200], Step[300/600], d_loss: 0.9479, g_loss: 1.5564, Mean D(x): 0.71, Mean D(G(z)): 0.27\n",
            "Epoch [125/200], Step[600/600], d_loss: 0.9564, g_loss: 1.2687, Mean D(x): 0.69, Mean D(G(z)): 0.31\n",
            "Epoch [126/200], Step[300/600], d_loss: 0.9289, g_loss: 1.7125, Mean D(x): 0.67, Mean D(G(z)): 0.22\n",
            "Epoch [126/200], Step[600/600], d_loss: 1.1164, g_loss: 1.1080, Mean D(x): 0.60, Mean D(G(z)): 0.37\n",
            "Epoch [127/200], Step[300/600], d_loss: 0.8956, g_loss: 1.7108, Mean D(x): 0.71, Mean D(G(z)): 0.22\n",
            "Epoch [127/200], Step[600/600], d_loss: 1.0377, g_loss: 1.4415, Mean D(x): 0.60, Mean D(G(z)): 0.28\n",
            "Epoch [128/200], Step[300/600], d_loss: 1.0533, g_loss: 1.2502, Mean D(x): 0.65, Mean D(G(z)): 0.32\n",
            "Epoch [128/200], Step[600/600], d_loss: 0.9922, g_loss: 1.2514, Mean D(x): 0.67, Mean D(G(z)): 0.33\n",
            "Epoch [129/200], Step[300/600], d_loss: 1.2544, g_loss: 1.3498, Mean D(x): 0.61, Mean D(G(z)): 0.30\n",
            "Epoch [129/200], Step[600/600], d_loss: 0.9424, g_loss: 1.3612, Mean D(x): 0.71, Mean D(G(z)): 0.30\n",
            "Epoch [130/200], Step[300/600], d_loss: 1.0144, g_loss: 1.3255, Mean D(x): 0.66, Mean D(G(z)): 0.30\n",
            "Epoch [130/200], Step[600/600], d_loss: 1.0312, g_loss: 1.4399, Mean D(x): 0.65, Mean D(G(z)): 0.28\n",
            "Epoch [131/200], Step[300/600], d_loss: 0.9289, g_loss: 1.3206, Mean D(x): 0.67, Mean D(G(z)): 0.31\n",
            "Epoch [131/200], Step[600/600], d_loss: 1.0468, g_loss: 1.2321, Mean D(x): 0.62, Mean D(G(z)): 0.33\n",
            "Epoch [132/200], Step[300/600], d_loss: 1.1258, g_loss: 1.2609, Mean D(x): 0.58, Mean D(G(z)): 0.31\n",
            "Epoch [132/200], Step[600/600], d_loss: 1.1733, g_loss: 1.3558, Mean D(x): 0.63, Mean D(G(z)): 0.29\n",
            "Epoch [133/200], Step[300/600], d_loss: 1.2806, g_loss: 1.1808, Mean D(x): 0.57, Mean D(G(z)): 0.34\n",
            "Epoch [133/200], Step[600/600], d_loss: 0.8899, g_loss: 1.8964, Mean D(x): 0.69, Mean D(G(z)): 0.21\n",
            "Epoch [134/200], Step[300/600], d_loss: 0.8881, g_loss: 1.3821, Mean D(x): 0.72, Mean D(G(z)): 0.29\n",
            "Epoch [134/200], Step[600/600], d_loss: 0.8853, g_loss: 1.3475, Mean D(x): 0.71, Mean D(G(z)): 0.30\n",
            "Epoch [135/200], Step[300/600], d_loss: 0.9751, g_loss: 1.3514, Mean D(x): 0.66, Mean D(G(z)): 0.31\n",
            "Epoch [135/200], Step[600/600], d_loss: 0.8752, g_loss: 1.4370, Mean D(x): 0.73, Mean D(G(z)): 0.29\n",
            "Epoch [136/200], Step[300/600], d_loss: 1.0297, g_loss: 1.3861, Mean D(x): 0.68, Mean D(G(z)): 0.30\n",
            "Epoch [136/200], Step[600/600], d_loss: 0.9915, g_loss: 1.5006, Mean D(x): 0.64, Mean D(G(z)): 0.26\n",
            "Epoch [137/200], Step[300/600], d_loss: 0.8951, g_loss: 1.7376, Mean D(x): 0.64, Mean D(G(z)): 0.20\n",
            "Epoch [137/200], Step[600/600], d_loss: 1.1025, g_loss: 1.2304, Mean D(x): 0.58, Mean D(G(z)): 0.31\n",
            "Epoch [138/200], Step[300/600], d_loss: 0.9442, g_loss: 1.0664, Mean D(x): 0.72, Mean D(G(z)): 0.40\n",
            "Epoch [138/200], Step[600/600], d_loss: 1.0075, g_loss: 1.3551, Mean D(x): 0.66, Mean D(G(z)): 0.29\n",
            "Epoch [139/200], Step[300/600], d_loss: 0.9759, g_loss: 1.6203, Mean D(x): 0.66, Mean D(G(z)): 0.27\n",
            "Epoch [139/200], Step[600/600], d_loss: 0.9696, g_loss: 1.4187, Mean D(x): 0.69, Mean D(G(z)): 0.29\n",
            "Epoch [140/200], Step[300/600], d_loss: 1.1501, g_loss: 1.2426, Mean D(x): 0.64, Mean D(G(z)): 0.34\n",
            "Epoch [140/200], Step[600/600], d_loss: 0.9051, g_loss: 1.2788, Mean D(x): 0.70, Mean D(G(z)): 0.32\n",
            "Epoch [141/200], Step[300/600], d_loss: 0.9003, g_loss: 1.5263, Mean D(x): 0.65, Mean D(G(z)): 0.26\n",
            "Epoch [141/200], Step[600/600], d_loss: 0.9108, g_loss: 1.2316, Mean D(x): 0.69, Mean D(G(z)): 0.32\n",
            "Epoch [142/200], Step[300/600], d_loss: 0.9808, g_loss: 1.6056, Mean D(x): 0.66, Mean D(G(z)): 0.25\n",
            "Epoch [142/200], Step[600/600], d_loss: 1.2437, g_loss: 1.2690, Mean D(x): 0.61, Mean D(G(z)): 0.34\n",
            "Epoch [143/200], Step[300/600], d_loss: 0.9610, g_loss: 1.4598, Mean D(x): 0.60, Mean D(G(z)): 0.28\n",
            "Epoch [143/200], Step[600/600], d_loss: 0.9490, g_loss: 1.4717, Mean D(x): 0.67, Mean D(G(z)): 0.26\n",
            "Epoch [144/200], Step[300/600], d_loss: 0.9913, g_loss: 1.3257, Mean D(x): 0.68, Mean D(G(z)): 0.30\n",
            "Epoch [144/200], Step[600/600], d_loss: 1.0858, g_loss: 1.2776, Mean D(x): 0.63, Mean D(G(z)): 0.31\n",
            "Epoch [145/200], Step[300/600], d_loss: 1.0077, g_loss: 1.2547, Mean D(x): 0.67, Mean D(G(z)): 0.33\n",
            "Epoch [145/200], Step[600/600], d_loss: 0.9847, g_loss: 1.2371, Mean D(x): 0.71, Mean D(G(z)): 0.34\n",
            "Epoch [146/200], Step[300/600], d_loss: 1.1015, g_loss: 1.4242, Mean D(x): 0.65, Mean D(G(z)): 0.29\n",
            "Epoch [146/200], Step[600/600], d_loss: 1.1270, g_loss: 1.1992, Mean D(x): 0.58, Mean D(G(z)): 0.34\n",
            "Epoch [147/200], Step[300/600], d_loss: 1.0570, g_loss: 1.4697, Mean D(x): 0.64, Mean D(G(z)): 0.29\n",
            "Epoch [147/200], Step[600/600], d_loss: 0.9812, g_loss: 1.1887, Mean D(x): 0.67, Mean D(G(z)): 0.34\n",
            "Epoch [148/200], Step[300/600], d_loss: 1.0700, g_loss: 1.0083, Mean D(x): 0.63, Mean D(G(z)): 0.41\n",
            "Epoch [148/200], Step[600/600], d_loss: 1.0420, g_loss: 1.2735, Mean D(x): 0.67, Mean D(G(z)): 0.32\n",
            "Epoch [149/200], Step[300/600], d_loss: 1.1214, g_loss: 1.1818, Mean D(x): 0.63, Mean D(G(z)): 0.35\n",
            "Epoch [149/200], Step[600/600], d_loss: 0.9196, g_loss: 1.5142, Mean D(x): 0.67, Mean D(G(z)): 0.26\n",
            "Epoch [150/200], Step[300/600], d_loss: 1.0567, g_loss: 1.2323, Mean D(x): 0.65, Mean D(G(z)): 0.31\n",
            "Epoch [150/200], Step[600/600], d_loss: 1.1046, g_loss: 1.1835, Mean D(x): 0.66, Mean D(G(z)): 0.34\n",
            "Epoch [151/200], Step[300/600], d_loss: 0.9933, g_loss: 1.1167, Mean D(x): 0.64, Mean D(G(z)): 0.36\n",
            "Epoch [151/200], Step[600/600], d_loss: 0.9787, g_loss: 1.2425, Mean D(x): 0.67, Mean D(G(z)): 0.34\n",
            "Epoch [152/200], Step[300/600], d_loss: 0.9999, g_loss: 1.3965, Mean D(x): 0.67, Mean D(G(z)): 0.29\n",
            "Epoch [152/200], Step[600/600], d_loss: 1.1143, g_loss: 1.1168, Mean D(x): 0.62, Mean D(G(z)): 0.35\n",
            "Epoch [153/200], Step[300/600], d_loss: 1.0668, g_loss: 1.2525, Mean D(x): 0.67, Mean D(G(z)): 0.34\n",
            "Epoch [153/200], Step[600/600], d_loss: 0.9844, g_loss: 1.2304, Mean D(x): 0.70, Mean D(G(z)): 0.33\n",
            "Epoch [154/200], Step[300/600], d_loss: 1.1710, g_loss: 1.1300, Mean D(x): 0.64, Mean D(G(z)): 0.36\n",
            "Epoch [154/200], Step[600/600], d_loss: 1.2409, g_loss: 1.2309, Mean D(x): 0.60, Mean D(G(z)): 0.33\n",
            "Epoch [155/200], Step[300/600], d_loss: 1.0451, g_loss: 1.0786, Mean D(x): 0.61, Mean D(G(z)): 0.37\n",
            "Epoch [155/200], Step[600/600], d_loss: 1.2199, g_loss: 1.1094, Mean D(x): 0.64, Mean D(G(z)): 0.37\n",
            "Epoch [156/200], Step[300/600], d_loss: 0.9083, g_loss: 1.4099, Mean D(x): 0.74, Mean D(G(z)): 0.31\n",
            "Epoch [156/200], Step[600/600], d_loss: 0.8265, g_loss: 1.3785, Mean D(x): 0.75, Mean D(G(z)): 0.30\n",
            "Epoch [157/200], Step[300/600], d_loss: 0.9594, g_loss: 1.5477, Mean D(x): 0.69, Mean D(G(z)): 0.29\n",
            "Epoch [157/200], Step[600/600], d_loss: 0.9140, g_loss: 1.3945, Mean D(x): 0.67, Mean D(G(z)): 0.29\n",
            "Epoch [158/200], Step[300/600], d_loss: 0.8913, g_loss: 1.3614, Mean D(x): 0.67, Mean D(G(z)): 0.30\n",
            "Epoch [158/200], Step[600/600], d_loss: 1.0782, g_loss: 1.3857, Mean D(x): 0.66, Mean D(G(z)): 0.30\n",
            "Epoch [159/200], Step[300/600], d_loss: 1.1700, g_loss: 1.5550, Mean D(x): 0.64, Mean D(G(z)): 0.26\n",
            "Epoch [159/200], Step[600/600], d_loss: 1.1530, g_loss: 1.3480, Mean D(x): 0.52, Mean D(G(z)): 0.30\n",
            "Epoch [160/200], Step[300/600], d_loss: 0.8542, g_loss: 1.5004, Mean D(x): 0.70, Mean D(G(z)): 0.27\n",
            "Epoch [160/200], Step[600/600], d_loss: 0.9284, g_loss: 1.0676, Mean D(x): 0.68, Mean D(G(z)): 0.40\n",
            "Epoch [161/200], Step[300/600], d_loss: 1.0697, g_loss: 1.2943, Mean D(x): 0.63, Mean D(G(z)): 0.30\n",
            "Epoch [161/200], Step[600/600], d_loss: 1.1267, g_loss: 1.1723, Mean D(x): 0.58, Mean D(G(z)): 0.35\n",
            "Epoch [162/200], Step[300/600], d_loss: 1.1041, g_loss: 1.1720, Mean D(x): 0.65, Mean D(G(z)): 0.34\n",
            "Epoch [162/200], Step[600/600], d_loss: 1.2840, g_loss: 0.9720, Mean D(x): 0.67, Mean D(G(z)): 0.42\n",
            "Epoch [163/200], Step[300/600], d_loss: 1.0740, g_loss: 1.4141, Mean D(x): 0.65, Mean D(G(z)): 0.29\n",
            "Epoch [163/200], Step[600/600], d_loss: 1.0245, g_loss: 1.3484, Mean D(x): 0.64, Mean D(G(z)): 0.29\n",
            "Epoch [164/200], Step[300/600], d_loss: 0.9615, g_loss: 1.4775, Mean D(x): 0.69, Mean D(G(z)): 0.27\n",
            "Epoch [164/200], Step[600/600], d_loss: 1.0027, g_loss: 1.0124, Mean D(x): 0.71, Mean D(G(z)): 0.40\n",
            "Epoch [165/200], Step[300/600], d_loss: 1.1544, g_loss: 1.3493, Mean D(x): 0.60, Mean D(G(z)): 0.28\n",
            "Epoch [165/200], Step[600/600], d_loss: 1.0998, g_loss: 1.3016, Mean D(x): 0.66, Mean D(G(z)): 0.32\n",
            "Epoch [166/200], Step[300/600], d_loss: 1.3766, g_loss: 1.1142, Mean D(x): 0.55, Mean D(G(z)): 0.36\n",
            "Epoch [166/200], Step[600/600], d_loss: 0.9775, g_loss: 1.4314, Mean D(x): 0.66, Mean D(G(z)): 0.27\n",
            "Epoch [167/200], Step[300/600], d_loss: 1.1674, g_loss: 1.1484, Mean D(x): 0.63, Mean D(G(z)): 0.35\n",
            "Epoch [167/200], Step[600/600], d_loss: 1.1479, g_loss: 1.4400, Mean D(x): 0.53, Mean D(G(z)): 0.28\n",
            "Epoch [168/200], Step[300/600], d_loss: 1.2047, g_loss: 1.2531, Mean D(x): 0.62, Mean D(G(z)): 0.34\n",
            "Epoch [168/200], Step[600/600], d_loss: 0.9708, g_loss: 1.3750, Mean D(x): 0.64, Mean D(G(z)): 0.27\n",
            "Epoch [169/200], Step[300/600], d_loss: 0.9971, g_loss: 1.0701, Mean D(x): 0.69, Mean D(G(z)): 0.38\n",
            "Epoch [169/200], Step[600/600], d_loss: 1.0807, g_loss: 1.2444, Mean D(x): 0.67, Mean D(G(z)): 0.33\n",
            "Epoch [170/200], Step[300/600], d_loss: 0.9803, g_loss: 1.2780, Mean D(x): 0.69, Mean D(G(z)): 0.32\n",
            "Epoch [170/200], Step[600/600], d_loss: 0.9260, g_loss: 1.1408, Mean D(x): 0.69, Mean D(G(z)): 0.35\n",
            "Epoch [171/200], Step[300/600], d_loss: 1.1229, g_loss: 1.0369, Mean D(x): 0.63, Mean D(G(z)): 0.39\n",
            "Epoch [171/200], Step[600/600], d_loss: 1.2594, g_loss: 1.2267, Mean D(x): 0.65, Mean D(G(z)): 0.36\n",
            "Epoch [172/200], Step[300/600], d_loss: 0.8658, g_loss: 1.3543, Mean D(x): 0.71, Mean D(G(z)): 0.30\n",
            "Epoch [172/200], Step[600/600], d_loss: 1.0510, g_loss: 1.3370, Mean D(x): 0.69, Mean D(G(z)): 0.30\n",
            "Epoch [173/200], Step[300/600], d_loss: 1.0018, g_loss: 1.4646, Mean D(x): 0.61, Mean D(G(z)): 0.27\n",
            "Epoch [173/200], Step[600/600], d_loss: 1.0718, g_loss: 1.1848, Mean D(x): 0.65, Mean D(G(z)): 0.34\n",
            "Epoch [174/200], Step[300/600], d_loss: 1.0299, g_loss: 1.4575, Mean D(x): 0.62, Mean D(G(z)): 0.27\n",
            "Epoch [174/200], Step[600/600], d_loss: 1.0544, g_loss: 1.2741, Mean D(x): 0.61, Mean D(G(z)): 0.31\n",
            "Epoch [175/200], Step[300/600], d_loss: 1.0501, g_loss: 1.4418, Mean D(x): 0.68, Mean D(G(z)): 0.27\n",
            "Epoch [175/200], Step[600/600], d_loss: 1.0118, g_loss: 1.3516, Mean D(x): 0.68, Mean D(G(z)): 0.30\n",
            "Epoch [176/200], Step[300/600], d_loss: 1.0387, g_loss: 1.8176, Mean D(x): 0.72, Mean D(G(z)): 0.25\n",
            "Epoch [176/200], Step[600/600], d_loss: 1.0296, g_loss: 0.9911, Mean D(x): 0.64, Mean D(G(z)): 0.39\n",
            "Epoch [177/200], Step[300/600], d_loss: 1.1247, g_loss: 1.2619, Mean D(x): 0.58, Mean D(G(z)): 0.31\n",
            "Epoch [177/200], Step[600/600], d_loss: 1.1344, g_loss: 1.1273, Mean D(x): 0.60, Mean D(G(z)): 0.36\n",
            "Epoch [178/200], Step[300/600], d_loss: 1.1802, g_loss: 1.3435, Mean D(x): 0.59, Mean D(G(z)): 0.30\n",
            "Epoch [178/200], Step[600/600], d_loss: 1.0574, g_loss: 1.2394, Mean D(x): 0.62, Mean D(G(z)): 0.32\n",
            "Epoch [179/200], Step[300/600], d_loss: 1.0113, g_loss: 1.2240, Mean D(x): 0.69, Mean D(G(z)): 0.33\n",
            "Epoch [179/200], Step[600/600], d_loss: 1.0260, g_loss: 1.1066, Mean D(x): 0.65, Mean D(G(z)): 0.36\n",
            "Epoch [180/200], Step[300/600], d_loss: 1.1364, g_loss: 0.9551, Mean D(x): 0.70, Mean D(G(z)): 0.41\n",
            "Epoch [180/200], Step[600/600], d_loss: 0.9488, g_loss: 1.2297, Mean D(x): 0.69, Mean D(G(z)): 0.33\n",
            "Epoch [181/200], Step[300/600], d_loss: 1.0775, g_loss: 1.0855, Mean D(x): 0.68, Mean D(G(z)): 0.36\n",
            "Epoch [181/200], Step[600/600], d_loss: 1.0810, g_loss: 1.3688, Mean D(x): 0.65, Mean D(G(z)): 0.29\n",
            "Epoch [182/200], Step[300/600], d_loss: 0.8061, g_loss: 1.4312, Mean D(x): 0.73, Mean D(G(z)): 0.29\n",
            "Epoch [182/200], Step[600/600], d_loss: 1.1827, g_loss: 1.4722, Mean D(x): 0.66, Mean D(G(z)): 0.29\n",
            "Epoch [183/200], Step[300/600], d_loss: 1.2290, g_loss: 1.1216, Mean D(x): 0.57, Mean D(G(z)): 0.35\n",
            "Epoch [183/200], Step[600/600], d_loss: 1.1591, g_loss: 1.0472, Mean D(x): 0.68, Mean D(G(z)): 0.39\n",
            "Epoch [184/200], Step[300/600], d_loss: 1.0136, g_loss: 1.2017, Mean D(x): 0.68, Mean D(G(z)): 0.35\n",
            "Epoch [184/200], Step[600/600], d_loss: 1.0855, g_loss: 1.2747, Mean D(x): 0.63, Mean D(G(z)): 0.32\n",
            "Epoch [185/200], Step[300/600], d_loss: 1.1459, g_loss: 1.0638, Mean D(x): 0.65, Mean D(G(z)): 0.39\n",
            "Epoch [185/200], Step[600/600], d_loss: 1.1397, g_loss: 1.0275, Mean D(x): 0.62, Mean D(G(z)): 0.38\n",
            "Epoch [186/200], Step[300/600], d_loss: 0.9326, g_loss: 1.3499, Mean D(x): 0.74, Mean D(G(z)): 0.31\n",
            "Epoch [186/200], Step[600/600], d_loss: 1.2344, g_loss: 1.0396, Mean D(x): 0.61, Mean D(G(z)): 0.39\n",
            "Epoch [187/200], Step[300/600], d_loss: 1.1518, g_loss: 1.1756, Mean D(x): 0.57, Mean D(G(z)): 0.34\n",
            "Epoch [187/200], Step[600/600], d_loss: 1.0961, g_loss: 1.0470, Mean D(x): 0.60, Mean D(G(z)): 0.37\n",
            "Epoch [188/200], Step[300/600], d_loss: 0.9519, g_loss: 1.3063, Mean D(x): 0.71, Mean D(G(z)): 0.31\n",
            "Epoch [188/200], Step[600/600], d_loss: 1.0778, g_loss: 1.4228, Mean D(x): 0.70, Mean D(G(z)): 0.31\n",
            "Epoch [189/200], Step[300/600], d_loss: 1.1897, g_loss: 1.0966, Mean D(x): 0.55, Mean D(G(z)): 0.36\n",
            "Epoch [189/200], Step[600/600], d_loss: 1.0547, g_loss: 1.0941, Mean D(x): 0.65, Mean D(G(z)): 0.37\n",
            "Epoch [190/200], Step[300/600], d_loss: 1.1934, g_loss: 1.2716, Mean D(x): 0.58, Mean D(G(z)): 0.32\n",
            "Epoch [190/200], Step[600/600], d_loss: 1.0708, g_loss: 1.3127, Mean D(x): 0.66, Mean D(G(z)): 0.30\n",
            "Epoch [191/200], Step[300/600], d_loss: 1.1474, g_loss: 1.4483, Mean D(x): 0.64, Mean D(G(z)): 0.29\n",
            "Epoch [191/200], Step[600/600], d_loss: 1.0712, g_loss: 1.2500, Mean D(x): 0.60, Mean D(G(z)): 0.32\n",
            "Epoch [192/200], Step[300/600], d_loss: 1.1118, g_loss: 1.3449, Mean D(x): 0.64, Mean D(G(z)): 0.30\n",
            "Epoch [192/200], Step[600/600], d_loss: 1.2012, g_loss: 1.1872, Mean D(x): 0.58, Mean D(G(z)): 0.34\n",
            "Epoch [193/200], Step[300/600], d_loss: 1.0927, g_loss: 1.0354, Mean D(x): 0.60, Mean D(G(z)): 0.39\n",
            "Epoch [193/200], Step[600/600], d_loss: 1.2591, g_loss: 1.2085, Mean D(x): 0.63, Mean D(G(z)): 0.33\n",
            "Epoch [194/200], Step[300/600], d_loss: 1.0592, g_loss: 1.3854, Mean D(x): 0.66, Mean D(G(z)): 0.29\n",
            "Epoch [194/200], Step[600/600], d_loss: 1.1666, g_loss: 1.1953, Mean D(x): 0.52, Mean D(G(z)): 0.32\n",
            "Epoch [195/200], Step[300/600], d_loss: 1.2501, g_loss: 0.9764, Mean D(x): 0.61, Mean D(G(z)): 0.40\n",
            "Epoch [195/200], Step[600/600], d_loss: 1.1085, g_loss: 1.2377, Mean D(x): 0.61, Mean D(G(z)): 0.33\n",
            "Epoch [196/200], Step[300/600], d_loss: 0.9518, g_loss: 1.4334, Mean D(x): 0.69, Mean D(G(z)): 0.28\n",
            "Epoch [196/200], Step[600/600], d_loss: 0.9537, g_loss: 1.1945, Mean D(x): 0.69, Mean D(G(z)): 0.34\n",
            "Epoch [197/200], Step[300/600], d_loss: 0.9889, g_loss: 1.1491, Mean D(x): 0.65, Mean D(G(z)): 0.34\n",
            "Epoch [197/200], Step[600/600], d_loss: 1.1575, g_loss: 1.0134, Mean D(x): 0.67, Mean D(G(z)): 0.40\n",
            "Epoch [198/200], Step[300/600], d_loss: 1.0168, g_loss: 0.9552, Mean D(x): 0.68, Mean D(G(z)): 0.42\n",
            "Epoch [198/200], Step[600/600], d_loss: 1.0680, g_loss: 1.0780, Mean D(x): 0.65, Mean D(G(z)): 0.37\n",
            "Epoch [199/200], Step[300/600], d_loss: 1.1189, g_loss: 1.1088, Mean D(x): 0.66, Mean D(G(z)): 0.35\n",
            "Epoch [199/200], Step[600/600], d_loss: 1.1101, g_loss: 1.0430, Mean D(x): 0.63, Mean D(G(z)): 0.38\n"
          ],
          "name": "stdout"
        }
      ]
    },
    {
      "metadata": {
        "id": "65LQGUOeYY5M",
        "colab_type": "text"
      },
      "cell_type": "markdown",
      "source": [
        "## Evaluation"
      ]
    },
    {
      "metadata": {
        "id": "YTA_M4lQYY5N",
        "colab_type": "text"
      },
      "cell_type": "markdown",
      "source": [
        "Create video from generated images from fixed noise epoch-wise:"
      ]
    },
    {
      "metadata": {
        "id": "K9a5O7lxYY5P",
        "colab_type": "code",
        "colab": {
          "base_uri": "https://localhost:8080/",
          "height": 35
        },
        "outputId": "738726a2-5f02-4592-e2de-770daba83cfc"
      },
      "cell_type": "code",
      "source": [
        "subprocess.call([\n",
        "    'ffmpeg', '-y', '-framerate', '8', '-i', './images/fixed_noise_images-%03d.png', '-r', '30', '-pix_fmt', 'yuv420p',\n",
        "    'fixed_noise_images.mp4'\n",
        "])"
      ],
      "execution_count": 17,
      "outputs": [
        {
          "output_type": "execute_result",
          "data": {
            "text/plain": [
              "0"
            ]
          },
          "metadata": {
            "tags": []
          },
          "execution_count": 17
        }
      ]
    },
    {
      "metadata": {
        "id": "_MzAPCPIYY5S",
        "colab_type": "text"
      },
      "cell_type": "markdown",
      "source": [
        "Load your favorite epoch:"
      ]
    },
    {
      "metadata": {
        "id": "quhcMrQxYY5S",
        "colab_type": "code",
        "colab": {}
      },
      "cell_type": "code",
      "source": [
        "G.load_state_dict(torch.load('./weights/generator-200.pkl'))\n",
        "D.load_state_dict(torch.load('./weights/discriminator-200.pkl'))"
      ],
      "execution_count": 0,
      "outputs": []
    },
    {
      "metadata": {
        "collapsed": true,
        "id": "uUbPWEm0YY5V",
        "colab_type": "text"
      },
      "cell_type": "markdown",
      "source": [
        "Now let's generate some images from random vectors:"
      ]
    },
    {
      "metadata": {
        "id": "drNrAXEaYY5W",
        "colab_type": "code",
        "colab": {}
      },
      "cell_type": "code",
      "source": [
        "z = torch.randn(60000, nz).to(device)\n",
        "fake_images = G(z).detach().cpu().numpy().reshape(60000, 28, 28)"
      ],
      "execution_count": 0,
      "outputs": []
    },
    {
      "metadata": {
        "id": "Ei7qYn7XYY5a",
        "colab_type": "code",
        "colab": {
          "base_uri": "https://localhost:8080/",
          "height": 283
        },
        "outputId": "8c4c331b-4866-429c-c4a8-657082f7c3ef"
      },
      "cell_type": "code",
      "source": [
        "plt.imshow(fake_images[80], cmap='Greys', interpolation='bilinear')"
      ],
      "execution_count": 24,
      "outputs": [
        {
          "output_type": "execute_result",
          "data": {
            "text/plain": [
              "<matplotlib.image.AxesImage at 0x7fcba04af828>"
            ]
          },
          "metadata": {
            "tags": []
          },
          "execution_count": 24
        },
        {
          "output_type": "display_data",
          "data": {
            "image/png": "[encoded data removed]",
            "text/plain": [
              "<Figure size 432x288 with 1 Axes>"
            ]
          },
          "metadata": {
            "tags": []
          }
        }
      ]
    },
    {
      "metadata": {
        "id": "F7ubPD4uYY5d",
        "colab_type": "text"
      },
      "cell_type": "markdown",
      "source": [
        "Now let's analyze our generated images with cluster analysis:"
      ]
    },
    {
      "metadata": {
        "id": "przR5nT2YY5e",
        "colab_type": "code",
        "colab": {
          "base_uri": "https://localhost:8080/",
          "height": 72
        },
        "outputId": "cc261dc7-9805-4c67-d1b2-ec4229d8c1ba"
      },
      "cell_type": "code",
      "source": [
        "inertia = []\n",
        "normed_real_images = dataset.train_data.numpy().reshape(len(dataset), -1) / 255. * 2. - 1.\n",
        "for n_clusters in range(2, 15):\n",
        "    model = MiniBatchKMeans(n_clusters=n_clusters)\n",
        "    model.fit(normed_real_images)\n",
        "    inertia.append(model.inertia_)"
      ],
      "execution_count": 25,
      "outputs": [
        {
          "output_type": "stream",
          "text": [
            "/usr/local/lib/python3.6/dist-packages/torchvision/datasets/mnist.py:53: UserWarning: train_data has been renamed data\n",
            "  warnings.warn(\"train_data has been renamed data\")\n"
          ],
          "name": "stderr"
        }
      ]
    },
    {
      "metadata": {
        "id": "JJDtH_r4YY5j",
        "colab_type": "code",
        "colab": {}
      },
      "cell_type": "code",
      "source": [
        "inertia_gan = []\n",
        "for n_clusters in range(2, 15):\n",
        "    model = MiniBatchKMeans(n_clusters=n_clusters)\n",
        "    model.fit(fake_images.reshape(60000, -1))\n",
        "    inertia_gan.append(model.inertia_)"
      ],
      "execution_count": 0,
      "outputs": []
    },
    {
      "metadata": {
        "id": "Hprkj-fyYY5l",
        "colab_type": "code",
        "colab": {
          "base_uri": "https://localhost:8080/",
          "height": 291
        },
        "outputId": "7cbe6e50-0383-4b34-b16f-5d8658ae0013"
      },
      "cell_type": "code",
      "source": [
        "plt.plot(range(2, 15), inertia, label='Training Set')\n",
        "plt.plot(range(2, 15), inertia_gan, label='GAN Generated')\n",
        "plt.legend()\n",
        "plt.ylabel('Within-cluster sum of squares')\n",
        "plt.xlabel('Number of clusters');"
      ],
      "execution_count": 27,
      "outputs": [
        {
          "output_type": "display_data",
          "data": {
            "image/png": "[encoded data removed]",
            "text/plain": [
              "<Figure size 432x288 with 1 Axes>"
            ]
          },
          "metadata": {
            "tags": []
          }
        }
      ]
    },
    {
      "metadata": {
        "id": "5mRwggmIAOVM",
        "colab_type": "code",
        "colab": {}
      },
      "cell_type": "code",
      "source": [
        ""
      ],
      "execution_count": 0,
      "outputs": []
    }
  ]
}