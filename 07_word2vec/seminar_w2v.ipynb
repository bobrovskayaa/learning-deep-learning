{
 "cells": [
  {
   "cell_type": "markdown",
   "metadata": {
    "_uuid": "84163f3ca19c0b7c9fda47121b3bc4cadfaf1fcc"
   },
   "source": [
    "# Gensim Word2Vec\n",
    "Disclaimer: This notebook is an adopted version of [this](https://www.kaggle.com/pierremegret/gensim-word2vec-tutorial) by [Pouria Mojabi](https://www.linkedin.com/in/pouria-mojabi-1873615). Big thanks to Pouria for such great tutorial!\n",
    "\n",
    "**Note:** there're no tasks for today's notebook. Just have fun!"
   ]
  },
  {
   "cell_type": "markdown",
   "metadata": {
    "_uuid": "6721f3a77cbc903d996b88c42f22c3e5e920e909"
   },
   "source": [
    "\n",
    "<img src=\"https://images.freeimages.com/images/large-previews/2b9/letters-1-yes-1188348.jpg\" alt=\"drawing\" width=\"350\"/>"
   ]
  },
  {
   "cell_type": "markdown",
   "metadata": {
    "_uuid": "7d96105f0c90bf052b2afdb684bf31549e1e6c81"
   },
   "source": [
    "# Briefing about Word2Vec:\n",
    "\n",
    "<img src=\"http://mccormickml.com/assets/word2vec/skip_gram_net_arch.png\" alt=\"drawing\" width=\"550\"/>\n",
    "\n",
    "[[1]](#References:)\n",
    "\n",
    "\n",
    "## Purpose of the tutorial:\n",
    "This tutorial focuses on the right use of the Word2Vec package from the Gensim libray; therefore, I am not going to explain the concepts and ideas behind Word2Vec here. I am simply going to give a very brief explanation, and provide you with links to good, in depth tutorials.\n",
    "\n",
    "## Brief explanation:\n",
    "\n",
    "Word2Vec was introduced in two [papers](#Material-for-more-in-depths-understanding:) between September and October 2013, by a team of researchers at Google. Along with the papers, the researchers published their implementation in C. The Python implementation was done soon after the 1st paper, by [Gensim](https://radimrehurek.com/gensim/index.html). \n",
    "\n",
    "The underlying assumption of Word2Vec is that two words sharing similar contexts also share a similar meaning and consequently a similar vector representation from the model. For instance: \"dog\", \"puppy\" and \"pup\" are often used in similar situations, with similar surrounding words like \"good\", \"fluffy\" or \"cute\", and according to Word2Vec they will therefore share a similar vector representation.<br>\n",
    "\n",
    "From this assumption, Word2Vec can be used to find out the relations between words in a dataset, compute the similarity between them, or use the vector representation of those words as input for other applications such as text classification or clustering.\n",
    "\n",
    "# Getting Started\n",
    "\n",
    "## Setting up the environment:\n",
    "\n",
    "`python==3.6.3`\n",
    "\n",
    "Libraries used:\n",
    " * `xlrd`: https://pypi.org/project/xlrd/\n",
    " * `spaCy`: https://spacy.io/usage/\n",
    " * `gensim`: https://radimrehurek.com/gensim/install.html\n",
    " * `scikit-learn`: http://scikit-learn.org/stable/install.html\n",
    " * `seaborn`: https://seaborn.pydata.org/installing.html\n",
    " \n",
    " Additionaly for `spacy` library we'll need **en** model. To download it just run: `python3 -m spacy download en`."
   ]
  },
  {
   "cell_type": "code",
   "execution_count": 12,
   "metadata": {},
   "outputs": [
    {
     "name": "stdout",
     "output_type": "stream",
     "text": [
      "Collecting en_core_web_sm==2.0.0 from https://github.com/explosion/spacy-models/releases/download/en_core_web_sm-2.0.0/en_core_web_sm-2.0.0.tar.gz#egg=en_core_web_sm==2.0.0\n",
      "  Downloading https://github.com/explosion/spacy-models/releases/download/en_core_web_sm-2.0.0/en_core_web_sm-2.0.0.tar.gz (37.4MB)\n",
      "Installing collected packages: en-core-web-sm\n",
      "  Running setup.py install for en-core-web-sm: started\n",
      "    Running setup.py install for en-core-web-sm: finished with status 'done'\n",
      "Successfully installed en-core-web-sm-2.0.0\n",
      "\n",
      "    Error: Couldn't link model to 'en'\n",
      "    Creating a symlink in spacy/data failed. Make sure you have the required\n",
      "    permissions and try re-running the command as admin, or use a\n",
      "    virtualenv. You can still import the model as a module and call its\n",
      "    load() method, or create the symlink manually.\n",
      "\n",
      "    C:\\Users\\mi\\Anaconda3\\lib\\site-packages\\en_core_web_sm -->\n",
      "    C:\\Users\\mi\\Anaconda3\\lib\\site-packages\\spacy\\data\\en\n",
      "\n",
      "\n",
      "    Creating a shortcut link for 'en' didn't work (maybe you don't have\n",
      "    admin permissions?), but you can still load the model via its full\n",
      "    package name: nlp = spacy.load('{name}')\n",
      "    Download successful but linking failed\n",
      "\n"
     ]
    },
    {
     "name": "stderr",
     "output_type": "stream",
     "text": [
      "You are using pip version 19.0.2, however version 19.0.3 is available.\n",
      "You should consider upgrading via the 'python -m pip install --upgrade pip' command.\n"
     ]
    }
   ],
   "source": [
    "# ! python -m spacy download en"
   ]
  },
  {
   "cell_type": "code",
   "execution_count": 1,
   "metadata": {
    "_uuid": "cc7b3e6ca62670ff13626705402f626778487204"
   },
   "outputs": [],
   "source": [
    "import re  # For preprocessing\n",
    "import pandas as pd  # For data handling\n",
    "from time import time  # To time our operations\n",
    "from collections import defaultdict  # For word frequency\n",
    "\n",
    "import spacy  # For preprocessing\n",
    "\n",
    "import logging  # Setting up the loggings to monitor gensim\n",
    "logging.basicConfig(format=\"%(levelname)s - %(asctime)s: %(message)s\", datefmt= '%H:%M:%S', level=logging.INFO)"
   ]
  },
  {
   "cell_type": "markdown",
   "metadata": {
    "_uuid": "8ec7ce784f6d9e7f71e2b5789b1e65ec4414628b"
   },
   "source": [
    "<img src=\"https://upload.wikimedia.org/wikipedia/commons/4/44/Logo_The_Simpsons.svg\" alt=\"drawing\" width=\"400\"/>\n",
    "\n",
    "## The data:\n",
    "I chose to play with the script from the Simpsons, both because I love the Simpsons and because with more than 150k lines of dialogues, the dataset was substantial! This dataset contains the characters, locations, episode details, and script lines for approximately 600 Simpsons episodes, dating back to 1989.\n",
    "\n",
    "Download it from here and put to `./data` folder: https://www.kaggle.com/ambarish/fun-in-text-mining-with-simpsons/data (~25MB)"
   ]
  },
  {
   "cell_type": "markdown",
   "metadata": {
    "_uuid": "0c36323d9aa62f74ab348cda5ee0f571aa1d4a96"
   },
   "source": [
    "# Preprocessing\n",
    "\n",
    "We keep only two columns:\n",
    "* `raw_character_text`: the character who speaks (can be useful when monitoring the preprocessing steps)\n",
    "* `spoken_words`: the raw text from the line of dialogue\n",
    "\n",
    "We do not keep `normalized_text` because we want to do our own preprocessing."
   ]
  },
  {
   "cell_type": "code",
   "execution_count": 2,
   "metadata": {
    "_uuid": "6453b9c3f797e51923e030090ead659253f4e459"
   },
   "outputs": [
    {
     "data": {
      "text/plain": [
       "(158314, 2)"
      ]
     },
     "execution_count": 2,
     "metadata": {},
     "output_type": "execute_result"
    }
   ],
   "source": [
    "df = pd.read_csv('./data/simpsons_dataset.csv')\n",
    "df.shape"
   ]
  },
  {
   "cell_type": "code",
   "execution_count": 3,
   "metadata": {
    "_uuid": "c6c6bf4462fb4bc00c2abdbf65eced888219f364"
   },
   "outputs": [
    {
     "data": {
      "text/html": [
       "<div>\n",
       "<style scoped>\n",
       "    .dataframe tbody tr th:only-of-type {\n",
       "        vertical-align: middle;\n",
       "    }\n",
       "\n",
       "    .dataframe tbody tr th {\n",
       "        vertical-align: top;\n",
       "    }\n",
       "\n",
       "    .dataframe thead th {\n",
       "        text-align: right;\n",
       "    }\n",
       "</style>\n",
       "<table border=\"1\" class=\"dataframe\">\n",
       "  <thead>\n",
       "    <tr style=\"text-align: right;\">\n",
       "      <th></th>\n",
       "      <th>raw_character_text</th>\n",
       "      <th>spoken_words</th>\n",
       "    </tr>\n",
       "  </thead>\n",
       "  <tbody>\n",
       "    <tr>\n",
       "      <th>0</th>\n",
       "      <td>Miss Hoover</td>\n",
       "      <td>No, actually, it was a little of both. Sometim...</td>\n",
       "    </tr>\n",
       "    <tr>\n",
       "      <th>1</th>\n",
       "      <td>Lisa Simpson</td>\n",
       "      <td>Where's Mr. Bergstrom?</td>\n",
       "    </tr>\n",
       "    <tr>\n",
       "      <th>2</th>\n",
       "      <td>Miss Hoover</td>\n",
       "      <td>I don't know. Although I'd sure like to talk t...</td>\n",
       "    </tr>\n",
       "    <tr>\n",
       "      <th>3</th>\n",
       "      <td>Lisa Simpson</td>\n",
       "      <td>That life is worth living.</td>\n",
       "    </tr>\n",
       "    <tr>\n",
       "      <th>4</th>\n",
       "      <td>Edna Krabappel-Flanders</td>\n",
       "      <td>The polls will be open from now until the end ...</td>\n",
       "    </tr>\n",
       "  </tbody>\n",
       "</table>\n",
       "</div>"
      ],
      "text/plain": [
       "        raw_character_text                                       spoken_words\n",
       "0              Miss Hoover  No, actually, it was a little of both. Sometim...\n",
       "1             Lisa Simpson                             Where's Mr. Bergstrom?\n",
       "2              Miss Hoover  I don't know. Although I'd sure like to talk t...\n",
       "3             Lisa Simpson                         That life is worth living.\n",
       "4  Edna Krabappel-Flanders  The polls will be open from now until the end ..."
      ]
     },
     "execution_count": 3,
     "metadata": {},
     "output_type": "execute_result"
    }
   ],
   "source": [
    "df.head()"
   ]
  },
  {
   "cell_type": "markdown",
   "metadata": {
    "_uuid": "caf6838463d56f79e92d87d5a3827fcd5f04fc54"
   },
   "source": [
    "The missing values comes from the part of the script where something happens, but with no dialogue. For instance \"(Springfield Elementary School: EXT. ELEMENTARY - SCHOOL PLAYGROUND - AFTERNOON)\""
   ]
  },
  {
   "cell_type": "code",
   "execution_count": 4,
   "metadata": {
    "_uuid": "3a15727caeba1c8d10573456640d0b8b9f2f2e2d"
   },
   "outputs": [
    {
     "data": {
      "text/plain": [
       "raw_character_text    17814\n",
       "spoken_words          26459\n",
       "dtype: int64"
      ]
     },
     "execution_count": 4,
     "metadata": {},
     "output_type": "execute_result"
    }
   ],
   "source": [
    "df.isnull().sum()"
   ]
  },
  {
   "cell_type": "markdown",
   "metadata": {
    "_uuid": "885a555596d7484841ea54c94405d03d90572396"
   },
   "source": [
    "Removing the missing values:"
   ]
  },
  {
   "cell_type": "code",
   "execution_count": 5,
   "metadata": {
    "_uuid": "82cb38f176526679f66ee31e11cfe4f5eebdab51"
   },
   "outputs": [
    {
     "data": {
      "text/plain": [
       "raw_character_text    0\n",
       "spoken_words          0\n",
       "dtype: int64"
      ]
     },
     "execution_count": 5,
     "metadata": {},
     "output_type": "execute_result"
    }
   ],
   "source": [
    "df = df.dropna().reset_index(drop=True)\n",
    "df.isnull().sum()"
   ]
  },
  {
   "cell_type": "markdown",
   "metadata": {
    "_uuid": "7f07dca2a2656dcd9e0c315afa36af32a992eef7"
   },
   "source": [
    "## Cleaning:\n",
    "We are lemmatizing and removing the stopwords and non-alphabetic characters for each line of dialogue."
   ]
  },
  {
   "cell_type": "code",
   "execution_count": 11,
   "metadata": {
    "_uuid": "b26a0c01c5701630d3951cfc808a9d944eea6371"
   },
   "outputs": [],
   "source": [
    "nlp = spacy.load('en_core_web_sm', disable=['ner', 'parser']) # disabling Named Entity Recognition for speed\n",
    "\n",
    "def cleaning(doc):\n",
    "    # Lemmatizes and removes stopwords\n",
    "    # doc needs to be a spacy Doc object\n",
    "    txt = [token.lemma_ for token in doc if not token.is_stop]\n",
    "    # Word2Vec uses context words to learn the vector representation of a target word,\n",
    "    # if a sentence is only one or two words long,\n",
    "    # the benefit for the training is very small\n",
    "    if len(txt) > 2:\n",
    "        return ' '.join(txt)"
   ]
  },
  {
   "cell_type": "markdown",
   "metadata": {
    "_uuid": "f686964722eede40e5961cd232aee7b6dd587bd1"
   },
   "source": [
    "Removes non-alphabetic characters:"
   ]
  },
  {
   "cell_type": "code",
   "execution_count": 12,
   "metadata": {
    "_uuid": "b45598934171607242ca7d50f8c5f7c91411aace"
   },
   "outputs": [],
   "source": [
    "brief_cleaning = (re.sub(\"[^A-Za-z']+\", ' ', str(row)).lower() for row in df['spoken_words'])"
   ]
  },
  {
   "cell_type": "markdown",
   "metadata": {
    "_uuid": "2360160a7f326a32d56f2f18782d7ce2f4ac1def"
   },
   "source": [
    "Taking advantage of spaCy .pipe() attribute to speed-up the cleaning process. **Note:** it can take >5 mins to process all the data."
   ]
  },
  {
   "cell_type": "code",
   "execution_count": 13,
   "metadata": {
    "_uuid": "fa44ca458c970ca229426779e6ffcd46c2de313c"
   },
   "outputs": [
    {
     "name": "stdout",
     "output_type": "stream",
     "text": [
      "Time to clean up everything: 3.03 mins\n"
     ]
    }
   ],
   "source": [
    "t = time()\n",
    "\n",
    "txt = [cleaning(doc) for doc in nlp.pipe(brief_cleaning, batch_size=5000, n_threads=-1)]\n",
    "\n",
    "print('Time to clean up everything: {} mins'.format(round((time() - t) / 60, 2)))"
   ]
  },
  {
   "cell_type": "markdown",
   "metadata": {
    "_uuid": "65ec76c60f9fe93bba6909f4e696f90e3e54710b"
   },
   "source": [
    "Put the results in a DataFrame to remove missing values and duplicates:"
   ]
  },
  {
   "cell_type": "code",
   "execution_count": 14,
   "metadata": {
    "_uuid": "57f1eb8382554bc592d48915a903230b5b6d6cf7"
   },
   "outputs": [
    {
     "data": {
      "text/plain": [
       "(92412, 1)"
      ]
     },
     "execution_count": 14,
     "metadata": {},
     "output_type": "execute_result"
    }
   ],
   "source": [
    "df_clean = pd.DataFrame({'clean': txt})\n",
    "df_clean = df_clean.dropna().drop_duplicates()\n",
    "df_clean.shape"
   ]
  },
  {
   "cell_type": "markdown",
   "metadata": {
    "_uuid": "31b4a744059df490ddb47ab6cdec008dc929ede3"
   },
   "source": [
    "## Bigrams:\n",
    "We are using Gensim Phrases package to automatically detect common phrases (bigrams) from a list of sentences.\n",
    "https://radimrehurek.com/gensim/models/phrases.html\n",
    "\n",
    "The main reason we do this is to catch words like \"mr_burns\" or \"bart_simpson\" !"
   ]
  },
  {
   "cell_type": "code",
   "execution_count": 15,
   "metadata": {
    "_uuid": "af6d420284a0ff7a7407d4c526754ffe850d6170"
   },
   "outputs": [
    {
     "name": "stderr",
     "output_type": "stream",
     "text": [
      "INFO - 19:34:15: 'pattern' package not found; tag filters are not available for English\n"
     ]
    }
   ],
   "source": [
    "from gensim.models.phrases import Phrases, Phraser"
   ]
  },
  {
   "cell_type": "markdown",
   "metadata": {
    "_uuid": "788aec3c82788101db25d4ca6105ee133fecae7c"
   },
   "source": [
    "As `Phrases()` takes a list of list of words as input:"
   ]
  },
  {
   "cell_type": "code",
   "execution_count": 16,
   "metadata": {
    "_uuid": "f58487ff08d8812622fd7aef36139f1c850add18"
   },
   "outputs": [],
   "source": [
    "sent = [row.split() for row in df_clean['clean']]"
   ]
  },
  {
   "cell_type": "markdown",
   "metadata": {
    "_uuid": "bb7766b322cbc1d3381912b890585eb249ac5304"
   },
   "source": [
    "Creates the relevant phrases from the list of sentences:"
   ]
  },
  {
   "cell_type": "code",
   "execution_count": 17,
   "metadata": {
    "_uuid": "8befad8c76c54bd2b831b0942a2f626f7d8a6dac"
   },
   "outputs": [
    {
     "name": "stderr",
     "output_type": "stream",
     "text": [
      "INFO - 19:34:29: collecting all words and their counts\n",
      "INFO - 19:34:29: PROGRESS: at sentence #0, processed 0 words and 0 word types\n",
      "INFO - 19:34:30: PROGRESS: at sentence #10000, processed 67396 words and 50551 word types\n",
      "INFO - 19:34:30: PROGRESS: at sentence #20000, processed 140465 words and 95808 word types\n",
      "INFO - 19:34:30: PROGRESS: at sentence #30000, processed 207950 words and 132011 word types\n",
      "INFO - 19:34:30: PROGRESS: at sentence #40000, processed 270207 words and 164407 word types\n",
      "INFO - 19:34:31: PROGRESS: at sentence #50000, processed 334085 words and 196195 word types\n",
      "INFO - 19:34:31: PROGRESS: at sentence #60000, processed 400877 words and 228659 word types\n",
      "INFO - 19:34:31: PROGRESS: at sentence #70000, processed 467802 words and 260712 word types\n",
      "INFO - 19:34:31: PROGRESS: at sentence #80000, processed 534361 words and 292095 word types\n",
      "INFO - 19:34:32: PROGRESS: at sentence #90000, processed 602037 words and 321944 word types\n",
      "INFO - 19:34:32: collected 328658 word types from a corpus of 618920 words (unigram + bigrams) and 92412 sentences\n",
      "INFO - 19:34:32: using 328658 counts as vocab in Phrases<0 vocab, min_count=30, threshold=10.0, max_vocab_size=40000000>\n"
     ]
    }
   ],
   "source": [
    "phrases = Phrases(sent, min_count=30, progress_per=10000)"
   ]
  },
  {
   "cell_type": "markdown",
   "metadata": {
    "_uuid": "45bae4a953f2ad8951e4efb234e1e357857a33b3"
   },
   "source": [
    "The goal of Phraser() is to cut down memory consumption of Phrases(), by discarding model state not strictly needed for the bigram detection task:"
   ]
  },
  {
   "cell_type": "code",
   "execution_count": 18,
   "metadata": {
    "_kg_hide-input": true,
    "_uuid": "b8ae81ba230013aefe7c584338de7376fedf6294"
   },
   "outputs": [
    {
     "name": "stderr",
     "output_type": "stream",
     "text": [
      "INFO - 19:34:34: source_vocab length 328658\n",
      "INFO - 19:34:41: Phraser built with 127 phrasegrams\n"
     ]
    }
   ],
   "source": [
    "bigram = Phraser(phrases)"
   ]
  },
  {
   "cell_type": "markdown",
   "metadata": {
    "_uuid": "4a58380f19d159688aeee665d1afb96289fdd4b8"
   },
   "source": [
    "Transform the corpus based on the bigrams detected:"
   ]
  },
  {
   "cell_type": "code",
   "execution_count": 19,
   "metadata": {
    "_uuid": "8051b56890c147119db3df529d3cfd3cf675fdca"
   },
   "outputs": [],
   "source": [
    "sentences = bigram[sent]"
   ]
  },
  {
   "cell_type": "markdown",
   "metadata": {
    "_uuid": "a4f81e8bb2c09a67b00cd24db28353eca8ae188c"
   },
   "source": [
    "## Most Frequent Words:\n",
    "Mainly a sanity check of the effectiveness of the lemmatization, removal of stopwords, and addition of bigrams."
   ]
  },
  {
   "cell_type": "code",
   "execution_count": 20,
   "metadata": {
    "_uuid": "eeb8afe1cfcb7ba65bd14d657455600acacf39ba"
   },
   "outputs": [
    {
     "data": {
      "text/plain": [
       "29673"
      ]
     },
     "execution_count": 20,
     "metadata": {},
     "output_type": "execute_result"
    }
   ],
   "source": [
    "word_freq = defaultdict(int)\n",
    "for sent in sentences:\n",
    "    for i in sent:\n",
    "        word_freq[i] += 1\n",
    "len(word_freq)"
   ]
  },
  {
   "cell_type": "code",
   "execution_count": 21,
   "metadata": {
    "_uuid": "5b010149150b2b2eaf332d79bcde0649b8a3c2b5"
   },
   "outputs": [
    {
     "data": {
      "text/plain": [
       "['be', 'not', 'oh', 'will', 'like', \"'s\", 'know', 'think', 'hey', 'good']"
      ]
     },
     "execution_count": 21,
     "metadata": {},
     "output_type": "execute_result"
    }
   ],
   "source": [
    "sorted(word_freq, key=word_freq.get, reverse=True)[:10]"
   ]
  },
  {
   "cell_type": "markdown",
   "metadata": {
    "_uuid": "500ab7b5c84dc006d7945f339c40725a82856fdf"
   },
   "source": [
    "# Training the model\n",
    "## Gensim Word2Vec Implementation:\n",
    "We use Gensim implementation of word2vec: https://radimrehurek.com/gensim/models/word2vec.html"
   ]
  },
  {
   "cell_type": "code",
   "execution_count": 22,
   "metadata": {
    "_uuid": "3269be205cadbad499aa87890893d92da6adc796"
   },
   "outputs": [],
   "source": [
    "import multiprocessing\n",
    "\n",
    "from gensim.models import Word2Vec"
   ]
  },
  {
   "cell_type": "markdown",
   "metadata": {
    "_uuid": "7c524bc49c41a6c37f9e754a38797c9501202090"
   },
   "source": [
    "## Why I seperate the training of the model in 3 steps:\n",
    "I prefer to separate the training in 3 distinctive steps for clarity and monitoring.\n",
    "1. `Word2Vec()`: \n",
    ">In this first step, I set up the parameters of the model one-by-one. <br>I do not supply the parameter `sentences`, and therefore leave the model uninitialized, purposefully.\n",
    "2. `.build_vocab()`: \n",
    ">Here it builds the vocabulary from a sequence of sentences and thus initialized the model. <br>With the loggings, I can follow the progress and even more important, the effect of `min_count` and `sample` on the word corpus. I noticed that these two parameters, and in particular `sample`, have a great influence over the performance of a model. Displaying both allows for a more accurate and an easier management of their influence.\n",
    "3. `.train()`:\n",
    ">Finally, trains the model.<br>\n",
    "The loggings here are mainly useful for monitoring, making sure that no threads are executed instantaneously."
   ]
  },
  {
   "cell_type": "code",
   "execution_count": 23,
   "metadata": {
    "_uuid": "03488d9b68963579c96094aca88a302c9f2753a7"
   },
   "outputs": [],
   "source": [
    "cores = multiprocessing.cpu_count() # Count the number of cores in a computer"
   ]
  },
  {
   "cell_type": "markdown",
   "metadata": {
    "_uuid": "89c305fcd163488441ac2ac6133678bd973b4419"
   },
   "source": [
    "## The parameters:\n",
    "\n",
    "* `min_count` <font color='purple'>=</font> <font color='green'>int</font> - Ignores all words with total absolute frequency lower than this - (2, 100)\n",
    "\n",
    "\n",
    "* `window` <font color='purple'>=</font> <font color='green'>int</font> - The maximum distance between the current and predicted word within a sentence. E.g. `window` words on the left and `window` words on the left of our target - (2, 10)\n",
    "\n",
    "\n",
    "* `size` <font color='purple'>=</font> <font color='green'>int</font> - Dimensionality of the feature vectors. - (50, 300)\n",
    "\n",
    "\n",
    "* `sample` <font color='purple'>=</font> <font color='green'>float</font> - The threshold for configuring which higher-frequency words are randomly downsampled. Highly influencial.  - (0, 1e-5)\n",
    "\n",
    "\n",
    "* `alpha` <font color='purple'>=</font> <font color='green'>float</font> - The initial learning rate - (0.01, 0.05)\n",
    "\n",
    "\n",
    "* `min_alpha` <font color='purple'>=</font> <font color='green'>float</font> - Learning rate will linearly drop to `min_alpha` as training progresses. To set it: alpha - (min_alpha * epochs) ~ 0.00\n",
    "\n",
    "\n",
    "* `negative` <font color='purple'>=</font> <font color='green'>int</font> - If > 0, negative sampling will be used, the int for negative specifies how many \"noise words\" should be drown. If set to 0, no negative sampling is used. - (5, 20)\n",
    "\n",
    "\n",
    "* `workers` <font color='purple'>=</font> <font color='green'>int</font> - Use these many worker threads to train the model (=faster training with multicore machines)"
   ]
  },
  {
   "cell_type": "code",
   "execution_count": 24,
   "metadata": {
    "_uuid": "ad619db82c219d6cb81fad516563feb0c4d474cd"
   },
   "outputs": [],
   "source": [
    "w2v_model = Word2Vec(min_count=20,\n",
    "                     window=2,\n",
    "                     size=300,\n",
    "                     sample=6e-5, \n",
    "                     alpha=0.03, \n",
    "                     min_alpha=0.0007, \n",
    "                     negative=20,\n",
    "                     workers=cores-1)"
   ]
  },
  {
   "cell_type": "markdown",
   "metadata": {
    "_uuid": "d7e9f1bd338f9e15647b5209ffd8fbb131cd7ee5"
   },
   "source": [
    "## Building the Vocabulary Table:\n",
    "Word2Vec requires us to build the vocabulary table (simply digesting all the words and filtering out the unique words, and doing some basic counts on them):"
   ]
  },
  {
   "cell_type": "code",
   "execution_count": 25,
   "metadata": {
    "_uuid": "66358ad743e05e17dfbed3899af9c41056143daa"
   },
   "outputs": [
    {
     "name": "stderr",
     "output_type": "stream",
     "text": [
      "INFO - 19:35:02: collecting all words and their counts\n",
      "INFO - 19:35:02: PROGRESS: at sentence #0, processed 0 words, keeping 0 word types\n",
      "INFO - 19:35:03: PROGRESS: at sentence #10000, processed 65193 words, keeping 9096 word types\n",
      "INFO - 19:35:03: PROGRESS: at sentence #20000, processed 136024 words, keeping 13916 word types\n",
      "INFO - 19:35:04: PROGRESS: at sentence #30000, processed 201577 words, keeping 16865 word types\n",
      "INFO - 19:35:04: PROGRESS: at sentence #40000, processed 262082 words, keeping 19506 word types\n",
      "INFO - 19:35:05: PROGRESS: at sentence #50000, processed 324069 words, keeping 21758 word types\n",
      "INFO - 19:35:05: PROGRESS: at sentence #60000, processed 388895 words, keeping 23910 word types\n",
      "INFO - 19:35:06: PROGRESS: at sentence #70000, processed 454042 words, keeping 25876 word types\n",
      "INFO - 19:35:06: PROGRESS: at sentence #80000, processed 518929 words, keeping 27769 word types\n",
      "INFO - 19:35:07: PROGRESS: at sentence #90000, processed 584755 words, keeping 29345 word types\n",
      "INFO - 19:35:07: collected 29673 word types from a corpus of 601119 raw words and 92412 sentences\n",
      "INFO - 19:35:07: Loading a fresh vocabulary\n",
      "INFO - 19:35:07: effective_min_count=20 retains 3375 unique words (11% of original 29673, drops 26298)\n",
      "INFO - 19:35:07: effective_min_count=20 leaves 515089 word corpus (85% of original 601119, drops 86030)\n",
      "INFO - 19:35:07: deleting the raw counts dictionary of 29673 items\n",
      "INFO - 19:35:07: sample=6e-05 downsamples 1080 most-common words\n",
      "INFO - 19:35:07: downsampling leaves estimated 219321 word corpus (42.6% of prior 515089)\n",
      "INFO - 19:35:07: estimated required memory for 3375 words and 300 dimensions: 9787500 bytes\n",
      "INFO - 19:35:07: resetting layer weights\n"
     ]
    },
    {
     "name": "stdout",
     "output_type": "stream",
     "text": [
      "Time to build vocab: 0.08 mins\n"
     ]
    }
   ],
   "source": [
    "t = time()\n",
    "\n",
    "w2v_model.build_vocab(sentences, progress_per=10000)\n",
    "\n",
    "print('Time to build vocab: {} mins'.format(round((time() - t) / 60, 2)))"
   ]
  },
  {
   "cell_type": "markdown",
   "metadata": {
    "_uuid": "63260d82061abb47db7f2f8b23e07ec629adf5a9"
   },
   "source": [
    "## Training of the model:\n",
    "_Parameters of the training:_\n",
    "* `total_examples` <font color='purple'>=</font> <font color='green'>int</font> - Count of sentences;\n",
    "* `epochs` <font color='purple'>=</font> <font color='green'>int</font> - Number of iterations (epochs) over the corpus - [10, 20, 30]"
   ]
  },
  {
   "cell_type": "code",
   "execution_count": 26,
   "metadata": {
    "_uuid": "07a2a047e701e512fd758edff186daadaeea6461"
   },
   "outputs": [
    {
     "name": "stderr",
     "output_type": "stream",
     "text": [
      "INFO - 19:35:07: training model with 3 workers on 3375 vocabulary and 300 features, using sg=0 hs=0 sample=6e-05 negative=20 window=2\n",
      "INFO - 19:35:08: EPOCH 1 - PROGRESS: at 17.74% examples, 38091 words/s, in_qsize 0, out_qsize 0\n",
      "INFO - 19:35:09: EPOCH 1 - PROGRESS: at 35.62% examples, 38706 words/s, in_qsize 0, out_qsize 0\n",
      "INFO - 19:35:10: EPOCH 1 - PROGRESS: at 56.77% examples, 40220 words/s, in_qsize 0, out_qsize 0\n",
      "INFO - 19:35:11: EPOCH 1 - PROGRESS: at 78.38% examples, 41532 words/s, in_qsize 0, out_qsize 0\n",
      "INFO - 19:35:12: worker thread finished; awaiting finish of 2 more threads\n",
      "INFO - 19:35:12: EPOCH 1 - PROGRESS: at 98.41% examples, 41843 words/s, in_qsize 1, out_qsize 1\n",
      "INFO - 19:35:12: worker thread finished; awaiting finish of 1 more threads\n",
      "INFO - 19:35:12: worker thread finished; awaiting finish of 0 more threads\n",
      "INFO - 19:35:12: EPOCH - 1 : training on 601119 raw words (219268 effective words) took 5.2s, 42285 effective words/s\n",
      "INFO - 19:35:13: EPOCH 2 - PROGRESS: at 20.71% examples, 45527 words/s, in_qsize 0, out_qsize 0\n",
      "INFO - 19:35:14: EPOCH 2 - PROGRESS: at 40.98% examples, 43740 words/s, in_qsize 0, out_qsize 0\n",
      "INFO - 19:35:15: EPOCH 2 - PROGRESS: at 60.07% examples, 42443 words/s, in_qsize 0, out_qsize 0\n",
      "INFO - 19:35:16: EPOCH 2 - PROGRESS: at 80.01% examples, 42523 words/s, in_qsize 0, out_qsize 0\n",
      "INFO - 19:35:17: worker thread finished; awaiting finish of 2 more threads\n",
      "INFO - 19:35:17: worker thread finished; awaiting finish of 1 more threads\n",
      "INFO - 19:35:17: EPOCH 2 - PROGRESS: at 100.00% examples, 42801 words/s, in_qsize 0, out_qsize 1\n",
      "INFO - 19:35:17: worker thread finished; awaiting finish of 0 more threads\n",
      "INFO - 19:35:17: EPOCH - 2 : training on 601119 raw words (219459 effective words) took 5.1s, 42767 effective words/s\n",
      "INFO - 19:35:19: EPOCH 3 - PROGRESS: at 20.71% examples, 44334 words/s, in_qsize 0, out_qsize 0\n",
      "INFO - 19:35:20: EPOCH 3 - PROGRESS: at 42.87% examples, 43682 words/s, in_qsize 0, out_qsize 0\n",
      "INFO - 19:35:21: EPOCH 3 - PROGRESS: at 65.09% examples, 43919 words/s, in_qsize 0, out_qsize 0\n",
      "INFO - 19:35:22: EPOCH 3 - PROGRESS: at 84.97% examples, 43242 words/s, in_qsize 0, out_qsize 0\n",
      "INFO - 19:35:23: worker thread finished; awaiting finish of 2 more threads\n",
      "INFO - 19:35:23: worker thread finished; awaiting finish of 1 more threads\n",
      "INFO - 19:35:23: worker thread finished; awaiting finish of 0 more threads\n",
      "INFO - 19:35:23: EPOCH - 3 : training on 601119 raw words (218941 effective words) took 5.1s, 42888 effective words/s\n",
      "INFO - 19:35:24: EPOCH 4 - PROGRESS: at 19.27% examples, 42219 words/s, in_qsize 0, out_qsize 0\n",
      "INFO - 19:35:25: EPOCH 4 - PROGRESS: at 39.12% examples, 42198 words/s, in_qsize 0, out_qsize 0\n",
      "INFO - 19:35:26: EPOCH 4 - PROGRESS: at 58.39% examples, 40334 words/s, in_qsize 0, out_qsize 0\n",
      "INFO - 19:35:27: EPOCH 4 - PROGRESS: at 78.38% examples, 40786 words/s, in_qsize 0, out_qsize 0\n",
      "INFO - 19:35:28: EPOCH 4 - PROGRESS: at 96.63% examples, 40426 words/s, in_qsize 0, out_qsize 0\n",
      "INFO - 19:35:28: worker thread finished; awaiting finish of 2 more threads\n",
      "INFO - 19:35:28: worker thread finished; awaiting finish of 1 more threads\n",
      "INFO - 19:35:28: worker thread finished; awaiting finish of 0 more threads\n",
      "INFO - 19:35:28: EPOCH - 4 : training on 601119 raw words (219933 effective words) took 5.4s, 40891 effective words/s\n",
      "INFO - 19:35:29: EPOCH 5 - PROGRESS: at 17.74% examples, 37905 words/s, in_qsize 0, out_qsize 0\n",
      "INFO - 19:35:30: EPOCH 5 - PROGRESS: at 35.62% examples, 37937 words/s, in_qsize 0, out_qsize 0\n",
      "INFO - 19:35:31: EPOCH 5 - PROGRESS: at 55.11% examples, 38008 words/s, in_qsize 0, out_qsize 0\n",
      "INFO - 19:35:32: EPOCH 5 - PROGRESS: at 75.05% examples, 39026 words/s, in_qsize 0, out_qsize 0\n",
      "INFO - 19:35:33: EPOCH 5 - PROGRESS: at 95.04% examples, 39500 words/s, in_qsize 0, out_qsize 0\n",
      "INFO - 19:35:33: worker thread finished; awaiting finish of 2 more threads\n",
      "INFO - 19:35:33: worker thread finished; awaiting finish of 1 more threads\n",
      "INFO - 19:35:33: worker thread finished; awaiting finish of 0 more threads\n",
      "INFO - 19:35:33: EPOCH - 5 : training on 601119 raw words (219201 effective words) took 5.5s, 39858 effective words/s\n",
      "INFO - 19:35:35: EPOCH 6 - PROGRESS: at 19.27% examples, 40348 words/s, in_qsize 0, out_qsize 0\n",
      "INFO - 19:35:36: EPOCH 6 - PROGRESS: at 33.89% examples, 36284 words/s, in_qsize 0, out_qsize 0\n",
      "INFO - 19:35:37: EPOCH 6 - PROGRESS: at 53.41% examples, 37364 words/s, in_qsize 0, out_qsize 0\n",
      "INFO - 19:35:38: EPOCH 6 - PROGRESS: at 75.05% examples, 39303 words/s, in_qsize 0, out_qsize 0\n",
      "INFO - 19:35:39: EPOCH 6 - PROGRESS: at 95.04% examples, 40115 words/s, in_qsize 0, out_qsize 0\n",
      "INFO - 19:35:39: worker thread finished; awaiting finish of 2 more threads\n",
      "INFO - 19:35:39: worker thread finished; awaiting finish of 1 more threads\n",
      "INFO - 19:35:39: worker thread finished; awaiting finish of 0 more threads\n",
      "INFO - 19:35:39: EPOCH - 6 : training on 601119 raw words (219677 effective words) took 5.5s, 40071 effective words/s\n",
      "INFO - 19:35:40: EPOCH 7 - PROGRESS: at 19.27% examples, 40646 words/s, in_qsize 0, out_qsize 0\n",
      "INFO - 19:35:41: EPOCH 7 - PROGRESS: at 37.39% examples, 40169 words/s, in_qsize 0, out_qsize 0\n",
      "INFO - 19:35:42: EPOCH 7 - PROGRESS: at 58.39% examples, 40854 words/s, in_qsize 0, out_qsize 0\n",
      "INFO - 19:35:43: EPOCH 7 - PROGRESS: at 76.68% examples, 40619 words/s, in_qsize 0, out_qsize 0\n",
      "INFO - 19:35:44: EPOCH 7 - PROGRESS: at 96.63% examples, 41006 words/s, in_qsize 0, out_qsize 0\n",
      "INFO - 19:35:44: worker thread finished; awaiting finish of 2 more threads\n",
      "INFO - 19:35:44: worker thread finished; awaiting finish of 1 more threads\n",
      "INFO - 19:35:44: worker thread finished; awaiting finish of 0 more threads\n",
      "INFO - 19:35:44: EPOCH - 7 : training on 601119 raw words (219546 effective words) took 5.4s, 40920 effective words/s\n",
      "INFO - 19:35:45: EPOCH 8 - PROGRESS: at 17.74% examples, 39938 words/s, in_qsize 0, out_qsize 0\n",
      "INFO - 19:35:46: EPOCH 8 - PROGRESS: at 37.39% examples, 40586 words/s, in_qsize 0, out_qsize 0\n",
      "INFO - 19:35:47: EPOCH 8 - PROGRESS: at 58.39% examples, 41584 words/s, in_qsize 0, out_qsize 0\n",
      "INFO - 19:35:49: EPOCH 8 - PROGRESS: at 80.01% examples, 42223 words/s, in_qsize 0, out_qsize 0\n",
      "INFO - 19:35:49: worker thread finished; awaiting finish of 2 more threads\n",
      "INFO - 19:35:50: EPOCH 8 - PROGRESS: at 98.41% examples, 41952 words/s, in_qsize 1, out_qsize 1\n",
      "INFO - 19:35:50: worker thread finished; awaiting finish of 1 more threads\n",
      "INFO - 19:35:50: worker thread finished; awaiting finish of 0 more threads\n",
      "INFO - 19:35:50: EPOCH - 8 : training on 601119 raw words (219363 effective words) took 5.2s, 42331 effective words/s\n",
      "INFO - 19:35:51: EPOCH 9 - PROGRESS: at 19.27% examples, 40840 words/s, in_qsize 0, out_qsize 0\n",
      "INFO - 19:35:52: EPOCH 9 - PROGRESS: at 39.12% examples, 41992 words/s, in_qsize 0, out_qsize 0\n",
      "INFO - 19:35:53: EPOCH 9 - PROGRESS: at 60.07% examples, 42019 words/s, in_qsize 0, out_qsize 0\n",
      "INFO - 19:35:54: EPOCH 9 - PROGRESS: at 80.01% examples, 42061 words/s, in_qsize 0, out_qsize 0\n",
      "INFO - 19:35:55: worker thread finished; awaiting finish of 2 more threads\n",
      "INFO - 19:35:55: EPOCH 9 - PROGRESS: at 98.41% examples, 41786 words/s, in_qsize 1, out_qsize 1\n",
      "INFO - 19:35:55: worker thread finished; awaiting finish of 1 more threads\n",
      "INFO - 19:35:55: worker thread finished; awaiting finish of 0 more threads\n",
      "INFO - 19:35:55: EPOCH - 9 : training on 601119 raw words (219047 effective words) took 5.2s, 42076 effective words/s\n",
      "INFO - 19:35:56: EPOCH 10 - PROGRESS: at 19.27% examples, 41037 words/s, in_qsize 0, out_qsize 0\n",
      "INFO - 19:35:57: EPOCH 10 - PROGRESS: at 37.39% examples, 40087 words/s, in_qsize 0, out_qsize 0\n",
      "INFO - 19:35:58: EPOCH 10 - PROGRESS: at 58.39% examples, 40463 words/s, in_qsize 0, out_qsize 0\n",
      "INFO - 19:35:59: EPOCH 10 - PROGRESS: at 78.38% examples, 40812 words/s, in_qsize 0, out_qsize 0\n",
      "INFO - 19:36:00: EPOCH 10 - PROGRESS: at 96.63% examples, 40720 words/s, in_qsize 0, out_qsize 0\n",
      "INFO - 19:36:00: worker thread finished; awaiting finish of 2 more threads\n",
      "INFO - 19:36:00: worker thread finished; awaiting finish of 1 more threads\n",
      "INFO - 19:36:00: worker thread finished; awaiting finish of 0 more threads\n"
     ]
    },
    {
     "name": "stderr",
     "output_type": "stream",
     "text": [
      "INFO - 19:36:00: EPOCH - 10 : training on 601119 raw words (219194 effective words) took 5.4s, 40949 effective words/s\n",
      "INFO - 19:36:01: EPOCH 11 - PROGRESS: at 19.27% examples, 42059 words/s, in_qsize 0, out_qsize 0\n",
      "INFO - 19:36:02: EPOCH 11 - PROGRESS: at 39.12% examples, 41921 words/s, in_qsize 0, out_qsize 0\n",
      "INFO - 19:36:03: EPOCH 11 - PROGRESS: at 60.07% examples, 41099 words/s, in_qsize 0, out_qsize 0\n",
      "INFO - 19:36:04: EPOCH 11 - PROGRESS: at 80.01% examples, 41762 words/s, in_qsize 0, out_qsize 0\n",
      "INFO - 19:36:05: worker thread finished; awaiting finish of 2 more threads\n",
      "INFO - 19:36:05: worker thread finished; awaiting finish of 1 more threads\n",
      "INFO - 19:36:05: EPOCH 11 - PROGRESS: at 100.00% examples, 42230 words/s, in_qsize 0, out_qsize 1\n",
      "INFO - 19:36:05: worker thread finished; awaiting finish of 0 more threads\n",
      "INFO - 19:36:05: EPOCH - 11 : training on 601119 raw words (219482 effective words) took 5.2s, 42164 effective words/s\n",
      "INFO - 19:36:06: EPOCH 12 - PROGRESS: at 17.74% examples, 40182 words/s, in_qsize 0, out_qsize 0\n",
      "INFO - 19:36:07: EPOCH 12 - PROGRESS: at 37.39% examples, 40556 words/s, in_qsize 0, out_qsize 0\n",
      "INFO - 19:36:09: EPOCH 12 - PROGRESS: at 58.39% examples, 40446 words/s, in_qsize 0, out_qsize 0\n",
      "INFO - 19:36:10: EPOCH 12 - PROGRESS: at 78.38% examples, 41199 words/s, in_qsize 0, out_qsize 0\n",
      "INFO - 19:36:11: EPOCH 12 - PROGRESS: at 96.63% examples, 40610 words/s, in_qsize 0, out_qsize 0\n",
      "INFO - 19:36:11: worker thread finished; awaiting finish of 2 more threads\n",
      "INFO - 19:36:11: worker thread finished; awaiting finish of 1 more threads\n",
      "INFO - 19:36:11: worker thread finished; awaiting finish of 0 more threads\n",
      "INFO - 19:36:11: EPOCH - 12 : training on 601119 raw words (219283 effective words) took 5.4s, 40825 effective words/s\n",
      "INFO - 19:36:12: EPOCH 13 - PROGRESS: at 19.27% examples, 41284 words/s, in_qsize 0, out_qsize 0\n",
      "INFO - 19:36:13: EPOCH 13 - PROGRESS: at 39.12% examples, 41474 words/s, in_qsize 0, out_qsize 0\n",
      "INFO - 19:36:14: EPOCH 13 - PROGRESS: at 60.07% examples, 41891 words/s, in_qsize 0, out_qsize 0\n",
      "INFO - 19:36:15: EPOCH 13 - PROGRESS: at 80.01% examples, 41808 words/s, in_qsize 0, out_qsize 0\n",
      "INFO - 19:36:16: worker thread finished; awaiting finish of 2 more threads\n",
      "INFO - 19:36:16: worker thread finished; awaiting finish of 1 more threads\n",
      "INFO - 19:36:16: EPOCH 13 - PROGRESS: at 100.00% examples, 42243 words/s, in_qsize 0, out_qsize 1\n",
      "INFO - 19:36:16: worker thread finished; awaiting finish of 0 more threads\n",
      "INFO - 19:36:16: EPOCH - 13 : training on 601119 raw words (219163 effective words) took 5.2s, 42198 effective words/s\n",
      "INFO - 19:36:17: EPOCH 14 - PROGRESS: at 19.27% examples, 41205 words/s, in_qsize 0, out_qsize 0\n",
      "INFO - 19:36:18: EPOCH 14 - PROGRESS: at 37.39% examples, 40517 words/s, in_qsize 0, out_qsize 0\n",
      "INFO - 19:36:19: EPOCH 14 - PROGRESS: at 58.39% examples, 40864 words/s, in_qsize 0, out_qsize 0\n",
      "INFO - 19:36:20: EPOCH 14 - PROGRESS: at 78.38% examples, 41442 words/s, in_qsize 0, out_qsize 0\n",
      "INFO - 19:36:21: EPOCH 14 - PROGRESS: at 98.21% examples, 41794 words/s, in_qsize 0, out_qsize 0\n",
      "INFO - 19:36:21: worker thread finished; awaiting finish of 2 more threads\n",
      "INFO - 19:36:21: worker thread finished; awaiting finish of 1 more threads\n",
      "INFO - 19:36:21: worker thread finished; awaiting finish of 0 more threads\n",
      "INFO - 19:36:21: EPOCH - 14 : training on 601119 raw words (219808 effective words) took 5.2s, 41877 effective words/s\n",
      "INFO - 19:36:22: EPOCH 15 - PROGRESS: at 19.27% examples, 42088 words/s, in_qsize 0, out_qsize 0\n",
      "INFO - 19:36:23: EPOCH 15 - PROGRESS: at 39.12% examples, 41590 words/s, in_qsize 0, out_qsize 0\n",
      "INFO - 19:36:24: EPOCH 15 - PROGRESS: at 60.07% examples, 40895 words/s, in_qsize 0, out_qsize 0\n",
      "INFO - 19:36:26: EPOCH 15 - PROGRESS: at 80.01% examples, 40829 words/s, in_qsize 0, out_qsize 0\n",
      "INFO - 19:36:26: worker thread finished; awaiting finish of 2 more threads\n",
      "INFO - 19:36:26: worker thread finished; awaiting finish of 1 more threads\n",
      "INFO - 19:36:27: EPOCH 15 - PROGRESS: at 100.00% examples, 41298 words/s, in_qsize 0, out_qsize 1\n",
      "INFO - 19:36:27: worker thread finished; awaiting finish of 0 more threads\n",
      "INFO - 19:36:27: EPOCH - 15 : training on 601119 raw words (219285 effective words) took 5.3s, 41257 effective words/s\n",
      "INFO - 19:36:28: EPOCH 16 - PROGRESS: at 19.27% examples, 41314 words/s, in_qsize 0, out_qsize 0\n",
      "INFO - 19:36:29: EPOCH 16 - PROGRESS: at 39.12% examples, 41033 words/s, in_qsize 0, out_qsize 0\n",
      "INFO - 19:36:30: EPOCH 16 - PROGRESS: at 60.07% examples, 41220 words/s, in_qsize 0, out_qsize 0\n",
      "INFO - 19:36:31: EPOCH 16 - PROGRESS: at 78.38% examples, 41019 words/s, in_qsize 0, out_qsize 0\n",
      "INFO - 19:36:32: EPOCH 16 - PROGRESS: at 98.21% examples, 41427 words/s, in_qsize 0, out_qsize 0\n",
      "INFO - 19:36:32: worker thread finished; awaiting finish of 2 more threads\n",
      "INFO - 19:36:32: worker thread finished; awaiting finish of 1 more threads\n",
      "INFO - 19:36:32: worker thread finished; awaiting finish of 0 more threads\n",
      "INFO - 19:36:32: EPOCH - 16 : training on 601119 raw words (219332 effective words) took 5.3s, 41439 effective words/s\n",
      "INFO - 19:36:33: EPOCH 17 - PROGRESS: at 19.27% examples, 42675 words/s, in_qsize 0, out_qsize 0\n",
      "INFO - 19:36:34: EPOCH 17 - PROGRESS: at 40.98% examples, 43520 words/s, in_qsize 0, out_qsize 0\n",
      "INFO - 19:36:35: EPOCH 17 - PROGRESS: at 61.73% examples, 42858 words/s, in_qsize 0, out_qsize 0\n",
      "INFO - 19:36:36: EPOCH 17 - PROGRESS: at 81.64% examples, 43087 words/s, in_qsize 0, out_qsize 0\n",
      "INFO - 19:36:37: worker thread finished; awaiting finish of 2 more threads\n",
      "INFO - 19:36:37: worker thread finished; awaiting finish of 1 more threads\n",
      "INFO - 19:36:37: worker thread finished; awaiting finish of 0 more threads\n",
      "INFO - 19:36:37: EPOCH - 17 : training on 601119 raw words (219136 effective words) took 5.1s, 43323 effective words/s\n",
      "INFO - 19:36:38: EPOCH 18 - PROGRESS: at 17.74% examples, 38924 words/s, in_qsize 0, out_qsize 0\n",
      "INFO - 19:36:39: EPOCH 18 - PROGRESS: at 37.39% examples, 41067 words/s, in_qsize 0, out_qsize 0\n",
      "INFO - 19:36:40: EPOCH 18 - PROGRESS: at 60.07% examples, 42482 words/s, in_qsize 0, out_qsize 0\n",
      "INFO - 19:36:41: EPOCH 18 - PROGRESS: at 80.01% examples, 42384 words/s, in_qsize 0, out_qsize 0\n",
      "INFO - 19:36:42: worker thread finished; awaiting finish of 2 more threads\n",
      "INFO - 19:36:42: worker thread finished; awaiting finish of 1 more threads\n",
      "INFO - 19:36:42: worker thread finished; awaiting finish of 0 more threads\n",
      "INFO - 19:36:42: EPOCH - 18 : training on 601119 raw words (219590 effective words) took 5.1s, 42904 effective words/s\n",
      "INFO - 19:36:43: EPOCH 19 - PROGRESS: at 19.27% examples, 41924 words/s, in_qsize 0, out_qsize 0\n",
      "INFO - 19:36:44: EPOCH 19 - PROGRESS: at 37.39% examples, 40196 words/s, in_qsize 0, out_qsize 0\n",
      "INFO - 19:36:45: EPOCH 19 - PROGRESS: at 58.39% examples, 41056 words/s, in_qsize 0, out_qsize 0\n",
      "INFO - 19:36:46: EPOCH 19 - PROGRESS: at 78.38% examples, 41299 words/s, in_qsize 0, out_qsize 0\n",
      "INFO - 19:36:47: EPOCH 19 - PROGRESS: at 98.21% examples, 41471 words/s, in_qsize 0, out_qsize 0\n",
      "INFO - 19:36:47: worker thread finished; awaiting finish of 2 more threads\n",
      "INFO - 19:36:47: worker thread finished; awaiting finish of 1 more threads\n",
      "INFO - 19:36:47: worker thread finished; awaiting finish of 0 more threads\n",
      "INFO - 19:36:47: EPOCH - 19 : training on 601119 raw words (219133 effective words) took 5.3s, 41658 effective words/s\n",
      "INFO - 19:36:48: EPOCH 20 - PROGRESS: at 19.27% examples, 41501 words/s, in_qsize 0, out_qsize 0\n",
      "INFO - 19:36:49: EPOCH 20 - PROGRESS: at 40.98% examples, 42818 words/s, in_qsize 0, out_qsize 0\n",
      "INFO - 19:36:50: EPOCH 20 - PROGRESS: at 61.73% examples, 42877 words/s, in_qsize 0, out_qsize 0\n",
      "INFO - 19:36:52: EPOCH 20 - PROGRESS: at 81.64% examples, 42461 words/s, in_qsize 0, out_qsize 0\n",
      "INFO - 19:36:52: worker thread finished; awaiting finish of 2 more threads\n",
      "INFO - 19:36:52: worker thread finished; awaiting finish of 1 more threads\n",
      "INFO - 19:36:53: worker thread finished; awaiting finish of 0 more threads\n",
      "INFO - 19:36:53: EPOCH - 20 : training on 601119 raw words (219339 effective words) took 5.2s, 42382 effective words/s\n"
     ]
    },
    {
     "name": "stderr",
     "output_type": "stream",
     "text": [
      "INFO - 19:36:54: EPOCH 21 - PROGRESS: at 19.27% examples, 43248 words/s, in_qsize 0, out_qsize 0\n",
      "INFO - 19:36:55: EPOCH 21 - PROGRESS: at 39.12% examples, 42215 words/s, in_qsize 0, out_qsize 0\n",
      "INFO - 19:36:56: EPOCH 21 - PROGRESS: at 58.39% examples, 41050 words/s, in_qsize 0, out_qsize 0\n",
      "INFO - 19:36:57: EPOCH 21 - PROGRESS: at 78.38% examples, 41375 words/s, in_qsize 0, out_qsize 0\n",
      "INFO - 19:36:58: EPOCH 21 - PROGRESS: at 98.21% examples, 41502 words/s, in_qsize 0, out_qsize 0\n",
      "INFO - 19:36:58: worker thread finished; awaiting finish of 2 more threads\n",
      "INFO - 19:36:58: worker thread finished; awaiting finish of 1 more threads\n",
      "INFO - 19:36:58: worker thread finished; awaiting finish of 0 more threads\n",
      "INFO - 19:36:58: EPOCH - 21 : training on 601119 raw words (219370 effective words) took 5.3s, 41690 effective words/s\n",
      "INFO - 19:36:59: EPOCH 22 - PROGRESS: at 17.74% examples, 38402 words/s, in_qsize 0, out_qsize 0\n",
      "INFO - 19:37:00: EPOCH 22 - PROGRESS: at 37.39% examples, 39908 words/s, in_qsize 0, out_qsize 0\n",
      "INFO - 19:37:01: EPOCH 22 - PROGRESS: at 58.39% examples, 40731 words/s, in_qsize 0, out_qsize 0\n",
      "INFO - 19:37:02: EPOCH 22 - PROGRESS: at 76.68% examples, 40297 words/s, in_qsize 0, out_qsize 0\n",
      "INFO - 19:37:03: EPOCH 22 - PROGRESS: at 96.63% examples, 40687 words/s, in_qsize 0, out_qsize 0\n",
      "INFO - 19:37:03: worker thread finished; awaiting finish of 2 more threads\n",
      "INFO - 19:37:03: worker thread finished; awaiting finish of 1 more threads\n",
      "INFO - 19:37:03: worker thread finished; awaiting finish of 0 more threads\n",
      "INFO - 19:37:03: EPOCH - 22 : training on 601119 raw words (219411 effective words) took 5.4s, 40887 effective words/s\n",
      "INFO - 19:37:04: EPOCH 23 - PROGRESS: at 19.27% examples, 42520 words/s, in_qsize 0, out_qsize 0\n",
      "INFO - 19:37:05: EPOCH 23 - PROGRESS: at 39.12% examples, 42368 words/s, in_qsize 0, out_qsize 0\n",
      "INFO - 19:37:06: EPOCH 23 - PROGRESS: at 58.39% examples, 40984 words/s, in_qsize 0, out_qsize 0\n",
      "INFO - 19:37:07: EPOCH 23 - PROGRESS: at 78.38% examples, 41221 words/s, in_qsize 0, out_qsize 0\n",
      "INFO - 19:37:08: EPOCH 23 - PROGRESS: at 98.21% examples, 41349 words/s, in_qsize 0, out_qsize 0\n",
      "INFO - 19:37:08: worker thread finished; awaiting finish of 2 more threads\n",
      "INFO - 19:37:08: worker thread finished; awaiting finish of 1 more threads\n",
      "INFO - 19:37:08: worker thread finished; awaiting finish of 0 more threads\n",
      "INFO - 19:37:08: EPOCH - 23 : training on 601119 raw words (219541 effective words) took 5.3s, 41331 effective words/s\n",
      "INFO - 19:37:10: EPOCH 24 - PROGRESS: at 19.27% examples, 41133 words/s, in_qsize 0, out_qsize 0\n",
      "INFO - 19:37:11: EPOCH 24 - PROGRESS: at 39.12% examples, 41027 words/s, in_qsize 0, out_qsize 0\n",
      "INFO - 19:37:12: EPOCH 24 - PROGRESS: at 60.07% examples, 41119 words/s, in_qsize 0, out_qsize 0\n",
      "INFO - 19:37:13: EPOCH 24 - PROGRESS: at 78.38% examples, 40703 words/s, in_qsize 0, out_qsize 0\n",
      "INFO - 19:37:14: EPOCH 24 - PROGRESS: at 98.21% examples, 41081 words/s, in_qsize 0, out_qsize 0\n",
      "INFO - 19:37:14: worker thread finished; awaiting finish of 2 more threads\n",
      "INFO - 19:37:14: worker thread finished; awaiting finish of 1 more threads\n",
      "INFO - 19:37:14: worker thread finished; awaiting finish of 0 more threads\n",
      "INFO - 19:37:14: EPOCH - 24 : training on 601119 raw words (219026 effective words) took 5.3s, 41241 effective words/s\n",
      "INFO - 19:37:15: EPOCH 25 - PROGRESS: at 19.27% examples, 41460 words/s, in_qsize 0, out_qsize 0\n",
      "INFO - 19:37:16: EPOCH 25 - PROGRESS: at 39.12% examples, 41482 words/s, in_qsize 0, out_qsize 0\n",
      "INFO - 19:37:17: EPOCH 25 - PROGRESS: at 60.07% examples, 41372 words/s, in_qsize 0, out_qsize 0\n",
      "INFO - 19:37:18: EPOCH 25 - PROGRESS: at 81.64% examples, 42164 words/s, in_qsize 0, out_qsize 0\n",
      "INFO - 19:37:19: worker thread finished; awaiting finish of 2 more threads\n",
      "INFO - 19:37:19: worker thread finished; awaiting finish of 1 more threads\n",
      "INFO - 19:37:19: worker thread finished; awaiting finish of 0 more threads\n",
      "INFO - 19:37:19: EPOCH - 25 : training on 601119 raw words (219369 effective words) took 5.1s, 43037 effective words/s\n",
      "INFO - 19:37:20: EPOCH 26 - PROGRESS: at 17.74% examples, 38840 words/s, in_qsize 0, out_qsize 0\n",
      "INFO - 19:37:21: EPOCH 26 - PROGRESS: at 37.39% examples, 40462 words/s, in_qsize 0, out_qsize 0\n",
      "INFO - 19:37:22: EPOCH 26 - PROGRESS: at 58.39% examples, 41199 words/s, in_qsize 0, out_qsize 0\n",
      "INFO - 19:37:23: EPOCH 26 - PROGRESS: at 78.38% examples, 41156 words/s, in_qsize 0, out_qsize 0\n",
      "INFO - 19:37:24: EPOCH 26 - PROGRESS: at 98.21% examples, 41478 words/s, in_qsize 0, out_qsize 0\n",
      "INFO - 19:37:24: worker thread finished; awaiting finish of 2 more threads\n",
      "INFO - 19:37:24: worker thread finished; awaiting finish of 1 more threads\n",
      "INFO - 19:37:24: worker thread finished; awaiting finish of 0 more threads\n",
      "INFO - 19:37:24: EPOCH - 26 : training on 601119 raw words (219095 effective words) took 5.3s, 41732 effective words/s\n",
      "INFO - 19:37:25: EPOCH 27 - PROGRESS: at 19.27% examples, 41907 words/s, in_qsize 0, out_qsize 0\n",
      "INFO - 19:37:26: EPOCH 27 - PROGRESS: at 35.62% examples, 38601 words/s, in_qsize 0, out_qsize 0\n",
      "INFO - 19:37:27: EPOCH 27 - PROGRESS: at 55.11% examples, 38623 words/s, in_qsize 0, out_qsize 0\n",
      "INFO - 19:37:28: EPOCH 27 - PROGRESS: at 75.05% examples, 40014 words/s, in_qsize 0, out_qsize 0\n",
      "INFO - 19:37:29: EPOCH 27 - PROGRESS: at 93.44% examples, 40019 words/s, in_qsize 0, out_qsize 0\n",
      "INFO - 19:37:30: worker thread finished; awaiting finish of 2 more threads\n",
      "INFO - 19:37:30: worker thread finished; awaiting finish of 1 more threads\n",
      "INFO - 19:37:30: worker thread finished; awaiting finish of 0 more threads\n",
      "INFO - 19:37:30: EPOCH - 27 : training on 601119 raw words (219584 effective words) took 5.4s, 40440 effective words/s\n",
      "INFO - 19:37:31: EPOCH 28 - PROGRESS: at 19.27% examples, 40942 words/s, in_qsize 0, out_qsize 0\n",
      "INFO - 19:37:32: EPOCH 28 - PROGRESS: at 39.12% examples, 41583 words/s, in_qsize 0, out_qsize 0\n",
      "INFO - 19:37:33: EPOCH 28 - PROGRESS: at 60.07% examples, 42043 words/s, in_qsize 0, out_qsize 0\n",
      "INFO - 19:37:34: EPOCH 28 - PROGRESS: at 78.38% examples, 41648 words/s, in_qsize 0, out_qsize 0\n",
      "INFO - 19:37:35: EPOCH 28 - PROGRESS: at 98.21% examples, 41664 words/s, in_qsize 0, out_qsize 0\n",
      "INFO - 19:37:35: worker thread finished; awaiting finish of 2 more threads\n",
      "INFO - 19:37:35: worker thread finished; awaiting finish of 1 more threads\n",
      "INFO - 19:37:35: worker thread finished; awaiting finish of 0 more threads\n",
      "INFO - 19:37:35: EPOCH - 28 : training on 601119 raw words (219753 effective words) took 5.3s, 41817 effective words/s\n",
      "INFO - 19:37:36: EPOCH 29 - PROGRESS: at 19.27% examples, 42426 words/s, in_qsize 0, out_qsize 0\n",
      "INFO - 19:37:37: EPOCH 29 - PROGRESS: at 39.12% examples, 42285 words/s, in_qsize 0, out_qsize 0\n",
      "INFO - 19:37:38: EPOCH 29 - PROGRESS: at 60.07% examples, 42253 words/s, in_qsize 0, out_qsize 0\n",
      "INFO - 19:37:39: EPOCH 29 - PROGRESS: at 80.01% examples, 42353 words/s, in_qsize 0, out_qsize 0\n",
      "INFO - 19:37:40: worker thread finished; awaiting finish of 2 more threads\n",
      "INFO - 19:37:40: worker thread finished; awaiting finish of 1 more threads\n",
      "INFO - 19:37:40: EPOCH 29 - PROGRESS: at 100.00% examples, 42477 words/s, in_qsize 0, out_qsize 1\n",
      "INFO - 19:37:40: worker thread finished; awaiting finish of 0 more threads\n",
      "INFO - 19:37:40: EPOCH - 29 : training on 601119 raw words (219058 effective words) took 5.2s, 42423 effective words/s\n",
      "INFO - 19:37:41: EPOCH 30 - PROGRESS: at 16.19% examples, 35292 words/s, in_qsize 0, out_qsize 0\n",
      "INFO - 19:37:42: EPOCH 30 - PROGRESS: at 35.62% examples, 38973 words/s, in_qsize 0, out_qsize 0\n",
      "INFO - 19:37:43: EPOCH 30 - PROGRESS: at 56.77% examples, 40482 words/s, in_qsize 0, out_qsize 0\n",
      "INFO - 19:37:44: EPOCH 30 - PROGRESS: at 75.05% examples, 40397 words/s, in_qsize 0, out_qsize 0\n",
      "INFO - 19:37:45: EPOCH 30 - PROGRESS: at 95.04% examples, 40617 words/s, in_qsize 0, out_qsize 0\n",
      "INFO - 19:37:45: worker thread finished; awaiting finish of 2 more threads\n",
      "INFO - 19:37:45: worker thread finished; awaiting finish of 1 more threads\n",
      "INFO - 19:37:45: worker thread finished; awaiting finish of 0 more threads\n"
     ]
    },
    {
     "name": "stderr",
     "output_type": "stream",
     "text": [
      "INFO - 19:37:45: EPOCH - 30 : training on 601119 raw words (219783 effective words) took 5.4s, 40737 effective words/s\n",
      "INFO - 19:37:45: training on a 18033570 raw words (6581170 effective words) took 158.4s, 41552 effective words/s\n"
     ]
    },
    {
     "name": "stdout",
     "output_type": "stream",
     "text": [
      "Time to train the model: 2.64 mins\n"
     ]
    }
   ],
   "source": [
    "t = time()\n",
    "\n",
    "w2v_model.train(sentences, total_examples=w2v_model.corpus_count, epochs=30, report_delay=1)\n",
    "\n",
    "print('Time to train the model: {} mins'.format(round((time() - t) / 60, 2)))"
   ]
  },
  {
   "cell_type": "markdown",
   "metadata": {
    "_uuid": "48e12768512b82c2d5cf6a543e3a9f2515699a22"
   },
   "source": [
    "As we do not plan to train the model any further, we are calling init_sims(), which will make the model much more memory-efficient:"
   ]
  },
  {
   "cell_type": "code",
   "execution_count": 27,
   "metadata": {
    "_uuid": "34dd51c7f2f39d016b982ef81e4df576f6b31bcb"
   },
   "outputs": [
    {
     "name": "stderr",
     "output_type": "stream",
     "text": [
      "INFO - 19:37:45: precomputing L2-norms of word weight vectors\n"
     ]
    }
   ],
   "source": [
    "w2v_model.init_sims(replace=True)"
   ]
  },
  {
   "cell_type": "markdown",
   "metadata": {
    "_uuid": "a420d5a98eb860cff1f4bbac8cbe2054459b6200"
   },
   "source": [
    "# Exploring the model\n",
    "## Most similar to:\n",
    "\n",
    "Here, we will ask our model to find the word most similar to some of the most iconic characters of the Simpsons!"
   ]
  },
  {
   "cell_type": "markdown",
   "metadata": {
    "_uuid": "a8f3cfd8ac88978a4df31c90afa194bd6fa4f3f5"
   },
   "source": [
    "<img src=\"https://vignette.wikia.nocookie.net/simpsons/images/0/02/Homer_Simpson_2006.png/revision/latest?cb=20091207194310\" alt=\"drawing\" width=\"130\"/>\n",
    "\n",
    "Let's see what we get for the show's main character:"
   ]
  },
  {
   "cell_type": "code",
   "execution_count": 28,
   "metadata": {
    "_uuid": "339207a733a1ac42fe60e32a29f9e5d5ca0a9275"
   },
   "outputs": [
    {
     "data": {
      "text/plain": [
       "[('depressed', 0.7256748080253601),\n",
       " ('marge', 0.6999435424804688),\n",
       " ('terrific', 0.66403728723526),\n",
       " ('hammock', 0.6596593856811523),\n",
       " ('asleep', 0.6552191972732544),\n",
       " ('crummy', 0.646760880947113),\n",
       " ('dr_hibbert', 0.646668553352356),\n",
       " ('fault', 0.6451089978218079),\n",
       " ('bongo', 0.6419504880905151),\n",
       " ('brad', 0.6415408849716187)]"
      ]
     },
     "execution_count": 28,
     "metadata": {},
     "output_type": "execute_result"
    }
   ],
   "source": [
    "w2v_model.wv.most_similar(positive=[\"homer\"])"
   ]
  },
  {
   "cell_type": "markdown",
   "metadata": {
    "_uuid": "3b6686e6fa956a98450259b063b4cf51019a6d0b"
   },
   "source": [
    "_A small precision here:_<br>\n",
    "The dataset is the Simpsons' lines of dialogue; therefore, when we look at the most similar words from \"homer\" we do **not** necessary get his family members, personality traits, or even his most quotable words. No, we get what other characters (as Homer does not often refers to himself at the 3rd person) said along with \"homer\", such as how he feels or looks (\"depressed\"), where he is (\"hammock\"), or with whom (\"marge\").\n",
    "\n",
    "Let's see what the bigram \"homer_simpson\" gives us by comparison:"
   ]
  },
  {
   "cell_type": "code",
   "execution_count": 29,
   "metadata": {
    "_uuid": "23e5149b19f18f4f2f456d4c72afc5c188bcfba4"
   },
   "outputs": [
    {
     "data": {
      "text/plain": [
       "[('pleased', 0.6863428354263306),\n",
       " ('client', 0.6813479661941528),\n",
       " ('congratulation', 0.6801321506500244),\n",
       " ('select', 0.6777430772781372),\n",
       " ('governor', 0.6755461692810059),\n",
       " ('sir', 0.6706782579421997),\n",
       " ('council', 0.6654080152511597),\n",
       " ('waylon', 0.6626676917076111),\n",
       " ('current', 0.6570662260055542),\n",
       " ('disturb', 0.6566163897514343)]"
      ]
     },
     "execution_count": 29,
     "metadata": {},
     "output_type": "execute_result"
    }
   ],
   "source": [
    "w2v_model.wv.most_similar(positive=[\"homer_simpson\"])"
   ]
  },
  {
   "cell_type": "markdown",
   "metadata": {
    "_uuid": "0e3e121e022f2f659cf97bba42cecd3f3c9afb01"
   },
   "source": [
    "<img src=\"https://vignette.wikia.nocookie.net/simpsons/images/0/0b/Marge_Simpson.png/revision/latest?cb=20180626055729\" alt=\"drawing\" width=\"150\"/>\n",
    "\n",
    "What about Marge now?"
   ]
  },
  {
   "cell_type": "code",
   "execution_count": 31,
   "metadata": {
    "_uuid": "22595f98c675a9697243b7e826b2840e5fc3e5f5"
   },
   "outputs": [
    {
     "data": {
      "text/plain": [
       "[('homer', 0.6999435424804688),\n",
       " ('badly', 0.6978085041046143),\n",
       " ('fault', 0.6970252990722656),\n",
       " ('homie', 0.6937844753265381),\n",
       " ('grownup', 0.691032886505127),\n",
       " ('anyhoo', 0.685552179813385),\n",
       " ('honey', 0.6814338564872742),\n",
       " ('arrange', 0.680456817150116),\n",
       " ('becky', 0.6787281036376953),\n",
       " ('rude', 0.6711133122444153)]"
      ]
     },
     "execution_count": 31,
     "metadata": {},
     "output_type": "execute_result"
    }
   ],
   "source": [
    "w2v_model.wv.most_similar(positive=[\"marge\"])"
   ]
  },
  {
   "cell_type": "markdown",
   "metadata": {
    "_uuid": "2b4857ff1159695c72c22417cf52dc84e0dfc9ea"
   },
   "source": [
    "<img src=\"https://vignette.wikia.nocookie.net/simpsons/images/6/65/Bart_Simpson.png/revision/latest?cb=20180319061933\" alt=\"drawing\" width=\"100\"/>\n",
    "\n",
    "Let's check Bart now:"
   ]
  },
  {
   "cell_type": "code",
   "execution_count": 30,
   "metadata": {
    "_uuid": "ac9ba47738e596dce6552099e76f303f28577943"
   },
   "outputs": [
    {
     "data": {
      "text/plain": [
       "[('lisa', 0.8415903449058533),\n",
       " ('homework', 0.7465263605117798),\n",
       " ('dr_hibbert', 0.7379127740859985),\n",
       " ('mom', 0.7340864539146423),\n",
       " ('mom_dad', 0.723953127861023),\n",
       " ('upset', 0.720878541469574),\n",
       " ('creepy', 0.7088297605514526),\n",
       " ('hearing', 0.7015326023101807),\n",
       " ('ralphie', 0.6972054243087769),\n",
       " ('surprised', 0.6957527995109558)]"
      ]
     },
     "execution_count": 30,
     "metadata": {},
     "output_type": "execute_result"
    }
   ],
   "source": [
    "w2v_model.wv.most_similar(positive=[\"bart\"])"
   ]
  },
  {
   "cell_type": "markdown",
   "metadata": {
    "_uuid": "c9afcf59e71f797f8e4d6d4b4ce39e359b19a450"
   },
   "source": [
    "Looks like it is making sense!\n",
    "\n",
    "<img src=\"https://vignette.wikia.nocookie.net/simpsons/images/9/9d/Groundskeeper_Willie.png/revision/latest?cb=20130424154035\" alt=\"drawing\" width=\"150\"/>\n",
    "\n",
    "Willie the groundskeeper for the last one:"
   ]
  },
  {
   "cell_type": "code",
   "execution_count": 32,
   "metadata": {},
   "outputs": [
    {
     "data": {
      "text/plain": [
       "[('groundskeeper', 0.9253226518630981),\n",
       " ('puke', 0.5941262245178223),\n",
       " ('arrr', 0.5297831296920776),\n",
       " ('oi', 0.5274206399917603),\n",
       " ('rid', 0.5205147862434387),\n",
       " ('aye', 0.5190622806549072),\n",
       " ('stinkin', 0.5123358964920044),\n",
       " (\"'_tis\", 0.49693357944488525),\n",
       " ('skinner', 0.4961133599281311),\n",
       " ('grass', 0.49366867542266846)]"
      ]
     },
     "execution_count": 32,
     "metadata": {},
     "output_type": "execute_result"
    }
   ],
   "source": [
    "w2v_model.wv.most_similar(positive=[\"willie\"])"
   ]
  },
  {
   "cell_type": "markdown",
   "metadata": {
    "_uuid": "d8b5937dfd7584f168a33060c435036cad5b390b"
   },
   "source": [
    "## Similarities:\n",
    "Here, we will see how similar are two words to each other :"
   ]
  },
  {
   "cell_type": "code",
   "execution_count": 33,
   "metadata": {
    "_uuid": "367755f5c9e00de4bc5056c978f5b50a38c1368b"
   },
   "outputs": [
    {
     "data": {
      "text/plain": [
       "0.70708054"
      ]
     },
     "execution_count": 33,
     "metadata": {},
     "output_type": "execute_result"
    }
   ],
   "source": [
    "w2v_model.wv.similarity(\"moe\", 'tavern')"
   ]
  },
  {
   "cell_type": "markdown",
   "metadata": {
    "_uuid": "d31383aa2f6310a38ec671f2ca4b0fcb195551dd"
   },
   "source": [
    "Who could forget Moe's tavern? Not Barney.\n",
    "\n",
    "<img src=\"https://vignette.wikia.nocookie.net/simpsons/images/6/6c/MaggieSimpson.PNG/revision/latest?cb=20180314210204\" alt=\"drawing\" width=\"100\"/>"
   ]
  },
  {
   "cell_type": "code",
   "execution_count": 34,
   "metadata": {
    "_uuid": "349828078b5a438d93e5494478e88095913dc58e"
   },
   "outputs": [
    {
     "data": {
      "text/plain": [
       "0.71429724"
      ]
     },
     "execution_count": 34,
     "metadata": {},
     "output_type": "execute_result"
    }
   ],
   "source": [
    "w2v_model.wv.similarity('maggie', 'baby')"
   ]
  },
  {
   "cell_type": "markdown",
   "metadata": {
    "_uuid": "7d7842e5b5cab743db56ff120d75ad3974c429d8"
   },
   "source": [
    "Maggie is indeed the most renown baby in the Simpsons!"
   ]
  },
  {
   "cell_type": "code",
   "execution_count": 35,
   "metadata": {
    "_uuid": "9ee5e2532214b20fef0a597bc5ad355762fcc281"
   },
   "outputs": [
    {
     "data": {
      "text/plain": [
       "0.55409527"
      ]
     },
     "execution_count": 35,
     "metadata": {},
     "output_type": "execute_result"
    }
   ],
   "source": [
    "w2v_model.wv.similarity('bart', 'nelson')"
   ]
  },
  {
   "cell_type": "markdown",
   "metadata": {
    "_uuid": "08a999d758ac687d626b631a8ce393eaa26f41e7"
   },
   "source": [
    "Bart and Nelson, though friends, are not that close, makes sense!\n",
    "\n",
    "## Odd-One-Out:\n",
    "\n",
    "Here, we ask our model to give us the word that does not belong to the list!\n",
    "\n",
    "Between Lisa, Bart, Nelson and Maggie, who is the one who is not a Simpson?"
   ]
  },
  {
   "cell_type": "code",
   "execution_count": 36,
   "metadata": {
    "_uuid": "d982e44d9c212b5ee09bcaebd050a725ab5e508e"
   },
   "outputs": [
    {
     "data": {
      "text/plain": [
       "'nelson'"
      ]
     },
     "execution_count": 36,
     "metadata": {},
     "output_type": "execute_result"
    }
   ],
   "source": [
    "w2v_model.wv.doesnt_match(['lisa', 'bart', 'nelson', 'maggie'])"
   ]
  },
  {
   "cell_type": "markdown",
   "metadata": {
    "_uuid": "12d3c035c89718e70c193f095b46e38dccef6b0d"
   },
   "source": [
    "Nelson of course!\n",
    "<img src=\"https://vignette.wikia.nocookie.net/simpsons/images/9/91/Milhouse_Van_Houten_2.png/revision/latest?cb=20180429212659\" alt=\"drawing\" width=\"150\"/>\n",
    "\n",
    "What if we compared the friendship between Nelson, Bart, and Milhouse?"
   ]
  },
  {
   "cell_type": "code",
   "execution_count": 37,
   "metadata": {
    "_uuid": "cafd4a7bec6d6255ea3f5f06df951546c0d783a9"
   },
   "outputs": [
    {
     "data": {
      "text/plain": [
       "'nelson'"
      ]
     },
     "execution_count": 37,
     "metadata": {},
     "output_type": "execute_result"
    }
   ],
   "source": [
    "w2v_model.wv.doesnt_match([\"nelson\", \"bart\", \"milhouse\"])"
   ]
  },
  {
   "cell_type": "markdown",
   "metadata": {
    "_uuid": "01c0148dc758db74ed8078ca54e8393ada090c8c"
   },
   "source": [
    "Seems like Nelson is the odd one here!\n",
    "\n",
    "<img src=\"https://vignette.wikia.nocookie.net/simpsons/images/4/40/Picture0003.jpg/revision/latest?cb=20110623042517\" alt=\"drawing\" width=\"200\"/>\n",
    "\n",
    "Last but not least, how is the relationship between Homer and his two sister-in-laws?"
   ]
  },
  {
   "cell_type": "code",
   "execution_count": 38,
   "metadata": {
    "_uuid": "445912f7d89b3cb1550926be161d134e6689f54f"
   },
   "outputs": [
    {
     "data": {
      "text/plain": [
       "'homer'"
      ]
     },
     "execution_count": 38,
     "metadata": {},
     "output_type": "execute_result"
    }
   ],
   "source": [
    "w2v_model.wv.doesnt_match(['homer', 'patty', 'selma'])"
   ]
  },
  {
   "cell_type": "markdown",
   "metadata": {
    "_uuid": "df95cdff693e843ab4b4c174fea24029447573cd"
   },
   "source": [
    "Damn, they really do not like you Homer!\n",
    "\n",
    "## Analogy difference:\n",
    "Which word is to woman as homer is to marge?"
   ]
  },
  {
   "cell_type": "code",
   "execution_count": 39,
   "metadata": {
    "_uuid": "812961e79dde9f2032f708755ca287c0aef838d0"
   },
   "outputs": [
    {
     "data": {
      "text/plain": [
       "[('man', 0.6205896139144897),\n",
       " ('admire', 0.5804502367973328),\n",
       " ('see', 0.5605318546295166)]"
      ]
     },
     "execution_count": 39,
     "metadata": {},
     "output_type": "execute_result"
    }
   ],
   "source": [
    "w2v_model.wv.most_similar(positive=[\"woman\", \"homer\"], negative=[\"marge\"], topn=3)"
   ]
  },
  {
   "cell_type": "markdown",
   "metadata": {
    "_uuid": "5a4ff4a8c8c582c6d9c704a042e8cc5d18b7bd6c"
   },
   "source": [
    "\"man\" comes at the first position, that looks about right!\n",
    "\n",
    "Which word is to woman as bart is to man?"
   ]
  },
  {
   "cell_type": "code",
   "execution_count": 40,
   "metadata": {
    "_uuid": "4cfef57b94b635abb58a4ff191785506c78ec9d9"
   },
   "outputs": [
    {
     "data": {
      "text/plain": [
       "[('lisa', 0.6894607543945312),\n",
       " ('parent', 0.6341993808746338),\n",
       " ('pregnant', 0.6285451054573059)]"
      ]
     },
     "execution_count": 40,
     "metadata": {},
     "output_type": "execute_result"
    }
   ],
   "source": [
    "w2v_model.wv.most_similar(positive=[\"woman\", \"bart\"], negative=[\"man\"], topn=3)"
   ]
  },
  {
   "cell_type": "markdown",
   "metadata": {
    "_uuid": "ef520bd7dd974d14afcb8e69266579ac0b703714"
   },
   "source": [
    "Lisa is Bart's sister, her male counterpart!\n",
    "<img src=\"https://vignette.wikia.nocookie.net/simpsons/images/5/57/Lisa_Simpson2.png/revision/latest?cb=20180319000458\" alt=\"drawing\" width=\"100\"/>"
   ]
  },
  {
   "cell_type": "markdown",
   "metadata": {
    "_uuid": "773c0acc8750ba8e728ff261f2e9ec39694c245c"
   },
   "source": [
    "### t-SNE visualizations:\n",
    "t-SNE is a non-linear dimensionality reduction algorithm that attempts to represent high-dimensional data and the underlying relationships between vectors in a lower-dimensional space.<br>\n",
    "Here is a good tutorial on it: https://medium.com/@luckylwk/visualising-high-dimensional-datasets-using-pca-and-t-sne-in-python-8ef87e7915b"
   ]
  },
  {
   "cell_type": "code",
   "execution_count": 41,
   "metadata": {
    "_uuid": "27ec46110042fc28da900b1b344ae4e0692d5dc2"
   },
   "outputs": [],
   "source": [
    "import numpy as np\n",
    "import matplotlib.pyplot as plt\n",
    "%matplotlib inline\n",
    " \n",
    "import seaborn as sns\n",
    "sns.set_style(\"darkgrid\")\n",
    "\n",
    "from sklearn.decomposition import PCA\n",
    "from sklearn.manifold import TSNE"
   ]
  },
  {
   "cell_type": "markdown",
   "metadata": {
    "_uuid": "22693eaa25253b38cee3c5cd5db6b6fdddb575a4"
   },
   "source": [
    "Our goal in this section is to plot our 300 dimensions vectors into 2 dimensional graphs, and see if we can spot interesting patterns.<br>\n",
    "For that we are going to use t-SNE implementation from scikit-learn.\n",
    "\n",
    "To make the visualizations more relevant, we will look at the relationships between a query word (in <font color='red'>**red**</font>), its most similar words in the model (in <font color=\"blue\">**blue**</font>), and other words from the vocabulary (in <font color='green'>**green**</font>)."
   ]
  },
  {
   "cell_type": "code",
   "execution_count": 42,
   "metadata": {
    "_uuid": "489a7d160dcd92da0ce42a3b5b461368c9ffe5f1"
   },
   "outputs": [],
   "source": [
    "def tsnescatterplot(model, word, list_names):\n",
    "    \"\"\" Plot in seaborn the results from the t-SNE dimensionality reduction algorithm of the vectors of a query word,\n",
    "    its list of most similar words, and a list of words.\n",
    "    \"\"\"\n",
    "    arrays = np.empty((0, 300), dtype='f')\n",
    "    word_labels = [word]\n",
    "    color_list  = ['red']\n",
    "\n",
    "    # adds the vector of the query word\n",
    "    arrays = np.append(arrays, model.wv.__getitem__([word]), axis=0)\n",
    "    \n",
    "    # gets list of most similar words\n",
    "    close_words = model.wv.most_similar([word])\n",
    "    \n",
    "    # adds the vector for each of the closest words to the array\n",
    "    for wrd_score in close_words:\n",
    "        wrd_vector = model.wv.__getitem__([wrd_score[0]])\n",
    "        word_labels.append(wrd_score[0])\n",
    "        color_list.append('blue')\n",
    "        arrays = np.append(arrays, wrd_vector, axis=0)\n",
    "    \n",
    "    # adds the vector for each of the words from list_names to the array\n",
    "    for wrd in list_names:\n",
    "        wrd_vector = model.wv.__getitem__([wrd])\n",
    "        word_labels.append(wrd)\n",
    "        color_list.append('green')\n",
    "        arrays = np.append(arrays, wrd_vector, axis=0)\n",
    "        \n",
    "    # Reduces the dimensionality from 300 to 10 dimensions with PCA\n",
    "    reduc = PCA(n_components=10).fit_transform(arrays)\n",
    "    \n",
    "    # Finds t-SNE coordinates for 2 dimensions\n",
    "    np.set_printoptions(suppress=True)\n",
    "    \n",
    "    Y = TSNE(n_components=2, random_state=0, perplexity=15).fit_transform(reduc)\n",
    "    \n",
    "    # Sets everything up to plot\n",
    "    df = pd.DataFrame({'x': [x for x in Y[:, 0]],\n",
    "                       'y': [y for y in Y[:, 1]],\n",
    "                       'words': word_labels,\n",
    "                       'color': color_list})\n",
    "    \n",
    "    fig, _ = plt.subplots()\n",
    "    fig.set_size_inches(9, 9)\n",
    "    \n",
    "    # Basic plot\n",
    "    p1 = sns.regplot(data=df,\n",
    "                     x=\"x\",\n",
    "                     y=\"y\",\n",
    "                     fit_reg=False,\n",
    "                     marker=\"o\",\n",
    "                     scatter_kws={'s': 40,\n",
    "                                  'facecolors': df['color']\n",
    "                                 }\n",
    "                    )\n",
    "    \n",
    "    # Adds annotations one by one with a loop\n",
    "    for line in range(0, df.shape[0]):\n",
    "         p1.text(df[\"x\"][line],\n",
    "                 df['y'][line],\n",
    "                 '  ' + df[\"words\"][line].title(),\n",
    "                 horizontalalignment='left',\n",
    "                 verticalalignment='bottom', size='medium',\n",
    "                 color=df['color'][line],\n",
    "                 weight='normal'\n",
    "                ).set_size(15)\n",
    "\n",
    "    \n",
    "    plt.xlim(Y[:, 0].min()-50, Y[:, 0].max()+50)\n",
    "    plt.ylim(Y[:, 1].min()-50, Y[:, 1].max()+50)\n",
    "            \n",
    "    plt.title('t-SNE visualization for {}'.format(word.title()))\n",
    "    "
   ]
  },
  {
   "cell_type": "markdown",
   "metadata": {
    "_uuid": "3943c170a5f5f09974d90c89bdb9ec761e63a416"
   },
   "source": [
    "Code inspired by: [[2]](#References:)\n",
    "\n",
    "## 10 Most similar words vs. 8 Random words:\n",
    "Let's compare where the vector representation of Homer, his 10 most similar words from the model, as well as 8 random ones, lies in a 2D graph:"
   ]
  },
  {
   "cell_type": "code",
   "execution_count": 43,
   "metadata": {
    "_uuid": "18d788b2a92f94771a5f9485a885d44dfba62a94"
   },
   "outputs": [
    {
     "data": {
      "image/png": "[encoded data removed]",
      "text/plain": [
       "<Figure size 648x648 with 1 Axes>"
      ]
     },
     "metadata": {
      "needs_background": "light"
     },
     "output_type": "display_data"
    }
   ],
   "source": [
    "tsnescatterplot(w2v_model, 'homer', ['dog', 'bird', 'ah', 'maude', 'bob', 'mel', 'apu', 'duff'])"
   ]
  },
  {
   "cell_type": "markdown",
   "metadata": {
    "_uuid": "c73fc2faaf0baecc84f02a97b50cb9ccefa48686"
   },
   "source": [
    "Interestingly, the 10 most similar words to Homer ends up around him, so does Apu and (sideshow) Bob, two recurrent characters.\n",
    "\n",
    "## 10 Most similar words vs. 10 Most dissimilar\n",
    "\n",
    "This time, let's compare where the vector representation of Maggie and her 10 most similar words from the model lies compare to the vector representation of the 10 most dissimilar words to Maggie:"
   ]
  },
  {
   "cell_type": "code",
   "execution_count": 44,
   "metadata": {
    "_uuid": "10c77b072f7c281f2be919341be116565c20d8a8"
   },
   "outputs": [
    {
     "data": {
      "image/png": "[encoded data removed]",
      "text/plain": [
       "<Figure size 648x648 with 1 Axes>"
      ]
     },
     "metadata": {
      "needs_background": "light"
     },
     "output_type": "display_data"
    }
   ],
   "source": [
    "tsnescatterplot(w2v_model, 'maggie', [i[0] for i in w2v_model.wv.most_similar(negative=[\"maggie\"])])"
   ]
  },
  {
   "cell_type": "markdown",
   "metadata": {
    "_uuid": "87315bfbaceb3733bd7af035db6c59cfc4b1ba7f"
   },
   "source": [
    "Neat! Maggie and her most similar words form a distinctive cluster from the most dissimilar words, it is a really encouraging plot!\n",
    "\n",
    "## 10 Most similar words vs. 11th to 20th Most similar words:\n",
    "\n",
    "Finally, we are going to plot the most similar words to Mr. Burns ranked 1st to 10th versus the ones ranked 11th to 20th:\n",
    "\n",
    "(PS: Mr. Burns became mr_burn after the preprocessing)"
   ]
  },
  {
   "cell_type": "code",
   "execution_count": 45,
   "metadata": {
    "_uuid": "e6f0bc598922f4f2cd17d2511560242a3c35fdd9"
   },
   "outputs": [
    {
     "data": {
      "image/png": "[encoded data removed]",
      "text/plain": [
       "<Figure size 648x648 with 1 Axes>"
      ]
     },
     "metadata": {
      "needs_background": "light"
     },
     "output_type": "display_data"
    }
   ],
   "source": [
    "tsnescatterplot(w2v_model, \"mr_burn\", [t[0] for t in w2v_model.wv.most_similar(positive=[\"mr_burn\"], topn=20)][10:])"
   ]
  },
  {
   "cell_type": "markdown",
   "metadata": {
    "_uuid": "011aa35b717d985f1d9fb820208531222055ff7b"
   },
   "source": [
    "As we can see, and that is very nice, all the 20 words are forming one cluster around Mr. Burns."
   ]
  },
  {
   "cell_type": "code",
   "execution_count": null,
   "metadata": {},
   "outputs": [],
   "source": []
  }
 ],
 "metadata": {
  "kernelspec": {
   "display_name": "Python 3",
   "language": "python",
   "name": "python3"
  },
  "language_info": {
   "codemirror_mode": {
    "name": "ipython",
    "version": 3
   },
   "file_extension": ".py",
   "mimetype": "text/x-python",
   "name": "python",
   "nbconvert_exporter": "python",
   "pygments_lexer": "ipython3",
   "version": "3.6.6"
  }
 },
 "nbformat": 4,
 "nbformat_minor": 1
}
